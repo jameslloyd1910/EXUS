{
 "cells": [
  {
   "cell_type": "code",
   "execution_count": 1,
   "id": "92d03470",
   "metadata": {},
   "outputs": [],
   "source": [
    "import pandas as pd\n",
    "import matplotlib.pyplot as plt"
   ]
  },
  {
   "cell_type": "markdown",
   "id": "90ab5a85",
   "metadata": {},
   "source": [
    "### Client_Information.csv: data providing additional information for the customers."
   ]
  },
  {
   "cell_type": "code",
   "execution_count": 2,
   "id": "2c7e8953",
   "metadata": {},
   "outputs": [],
   "source": [
    "data = pd.read_csv ('../../../assignment_datasets/Client_Information.csv')\n",
    "data.columns = pd.Series (data.columns).astype (str).apply (lambda x : x.lower ()).values\n",
    "data = data.dropna (axis = 1, how = 'all')"
   ]
  },
  {
   "cell_type": "code",
   "execution_count": 3,
   "id": "86b746c8",
   "metadata": {},
   "outputs": [
    {
     "data": {
      "text/plain": [
       "(16347, 289)"
      ]
     },
     "execution_count": 3,
     "metadata": {},
     "output_type": "execute_result"
    }
   ],
   "source": [
    "# One entry per customer\n",
    "\n",
    "data.shape"
   ]
  },
  {
   "cell_type": "code",
   "execution_count": 4,
   "id": "e72b08a0",
   "metadata": {},
   "outputs": [
    {
     "data": {
      "text/plain": [
       "(16347, 289)"
      ]
     },
     "execution_count": 4,
     "metadata": {},
     "output_type": "execute_result"
    }
   ],
   "source": [
    "data.dropna (axis = 0, how = 'any').shape"
   ]
  },
  {
   "cell_type": "code",
   "execution_count": 5,
   "id": "4e020044",
   "metadata": {},
   "outputs": [
    {
     "data": {
      "text/html": [
       "<div>\n",
       "<style scoped>\n",
       "    .dataframe tbody tr th:only-of-type {\n",
       "        vertical-align: middle;\n",
       "    }\n",
       "\n",
       "    .dataframe tbody tr th {\n",
       "        vertical-align: top;\n",
       "    }\n",
       "\n",
       "    .dataframe thead th {\n",
       "        text-align: right;\n",
       "    }\n",
       "</style>\n",
       "<table border=\"1\" class=\"dataframe\">\n",
       "  <thead>\n",
       "    <tr style=\"text-align: right;\">\n",
       "      <th></th>\n",
       "      <th>uid</th>\n",
       "      <th>f_1</th>\n",
       "      <th>f_3</th>\n",
       "      <th>f_4</th>\n",
       "      <th>f_5</th>\n",
       "      <th>f_6</th>\n",
       "      <th>f_7</th>\n",
       "      <th>f_8</th>\n",
       "      <th>f_9</th>\n",
       "      <th>f_10</th>\n",
       "      <th>...</th>\n",
       "      <th>f_280</th>\n",
       "      <th>f_281</th>\n",
       "      <th>f_282</th>\n",
       "      <th>f_283</th>\n",
       "      <th>f_284</th>\n",
       "      <th>f_285</th>\n",
       "      <th>f_286</th>\n",
       "      <th>f_287</th>\n",
       "      <th>f_288</th>\n",
       "      <th>f_289</th>\n",
       "    </tr>\n",
       "  </thead>\n",
       "  <tbody>\n",
       "    <tr>\n",
       "      <th>0</th>\n",
       "      <td>a2166667-0cc1-4f1d-89da-974446920301</td>\n",
       "      <td>565.0</td>\n",
       "      <td>102.0</td>\n",
       "      <td>116.0</td>\n",
       "      <td>104.0</td>\n",
       "      <td>0.0</td>\n",
       "      <td>603.0</td>\n",
       "      <td>102.0</td>\n",
       "      <td>116.0</td>\n",
       "      <td>104.0</td>\n",
       "      <td>...</td>\n",
       "      <td>ND</td>\n",
       "      <td>ND</td>\n",
       "      <td>-999997.0</td>\n",
       "      <td>-999997.0</td>\n",
       "      <td>-999997.0</td>\n",
       "      <td>-999997.0</td>\n",
       "      <td>-999997.0</td>\n",
       "      <td>-999997.0</td>\n",
       "      <td>-999997.0</td>\n",
       "      <td>-999997.0</td>\n",
       "    </tr>\n",
       "    <tr>\n",
       "      <th>1</th>\n",
       "      <td>d1def6ea-4557-4629-aeef-89a384889d68</td>\n",
       "      <td>657.0</td>\n",
       "      <td>101.0</td>\n",
       "      <td>0.0</td>\n",
       "      <td>0.0</td>\n",
       "      <td>0.0</td>\n",
       "      <td>680.0</td>\n",
       "      <td>101.0</td>\n",
       "      <td>0.0</td>\n",
       "      <td>0.0</td>\n",
       "      <td>...</td>\n",
       "      <td>ND</td>\n",
       "      <td>ND</td>\n",
       "      <td>-999997.0</td>\n",
       "      <td>-999997.0</td>\n",
       "      <td>-999997.0</td>\n",
       "      <td>-999997.0</td>\n",
       "      <td>-999997.0</td>\n",
       "      <td>-999997.0</td>\n",
       "      <td>-999997.0</td>\n",
       "      <td>-999997.0</td>\n",
       "    </tr>\n",
       "    <tr>\n",
       "      <th>2</th>\n",
       "      <td>29d200c0-97cd-452b-b9f1-bcd940ba059a</td>\n",
       "      <td>605.0</td>\n",
       "      <td>102.0</td>\n",
       "      <td>203.0</td>\n",
       "      <td>0.0</td>\n",
       "      <td>0.0</td>\n",
       "      <td>636.0</td>\n",
       "      <td>102.0</td>\n",
       "      <td>203.0</td>\n",
       "      <td>0.0</td>\n",
       "      <td>...</td>\n",
       "      <td>ND</td>\n",
       "      <td>ND</td>\n",
       "      <td>-999997.0</td>\n",
       "      <td>-999997.0</td>\n",
       "      <td>-999997.0</td>\n",
       "      <td>-999997.0</td>\n",
       "      <td>-999997.0</td>\n",
       "      <td>-999997.0</td>\n",
       "      <td>-999997.0</td>\n",
       "      <td>-999997.0</td>\n",
       "    </tr>\n",
       "    <tr>\n",
       "      <th>3</th>\n",
       "      <td>a21f04c5-ab93-48b3-8bfc-868f84aa7a09</td>\n",
       "      <td>679.0</td>\n",
       "      <td>506.0</td>\n",
       "      <td>104.0</td>\n",
       "      <td>0.0</td>\n",
       "      <td>0.0</td>\n",
       "      <td>722.0</td>\n",
       "      <td>506.0</td>\n",
       "      <td>104.0</td>\n",
       "      <td>0.0</td>\n",
       "      <td>...</td>\n",
       "      <td>ND</td>\n",
       "      <td>ND</td>\n",
       "      <td>-999997.0</td>\n",
       "      <td>-999997.0</td>\n",
       "      <td>-999997.0</td>\n",
       "      <td>-999997.0</td>\n",
       "      <td>-999997.0</td>\n",
       "      <td>-999997.0</td>\n",
       "      <td>-999997.0</td>\n",
       "      <td>-999997.0</td>\n",
       "    </tr>\n",
       "    <tr>\n",
       "      <th>4</th>\n",
       "      <td>2ed6bbc9-980a-4686-a585-aef5e2655ac2</td>\n",
       "      <td>586.0</td>\n",
       "      <td>102.0</td>\n",
       "      <td>104.0</td>\n",
       "      <td>112.0</td>\n",
       "      <td>0.0</td>\n",
       "      <td>614.0</td>\n",
       "      <td>102.0</td>\n",
       "      <td>104.0</td>\n",
       "      <td>112.0</td>\n",
       "      <td>...</td>\n",
       "      <td>ND</td>\n",
       "      <td>ND</td>\n",
       "      <td>-999997.0</td>\n",
       "      <td>-999997.0</td>\n",
       "      <td>-999997.0</td>\n",
       "      <td>-999997.0</td>\n",
       "      <td>-999997.0</td>\n",
       "      <td>-999997.0</td>\n",
       "      <td>-999997.0</td>\n",
       "      <td>-999997.0</td>\n",
       "    </tr>\n",
       "  </tbody>\n",
       "</table>\n",
       "<p>5 rows × 289 columns</p>\n",
       "</div>"
      ],
      "text/plain": [
       "                                    uid    f_1    f_3    f_4    f_5  f_6  \\\n",
       "0  a2166667-0cc1-4f1d-89da-974446920301  565.0  102.0  116.0  104.0  0.0   \n",
       "1  d1def6ea-4557-4629-aeef-89a384889d68  657.0  101.0    0.0    0.0  0.0   \n",
       "2  29d200c0-97cd-452b-b9f1-bcd940ba059a  605.0  102.0  203.0    0.0  0.0   \n",
       "3  a21f04c5-ab93-48b3-8bfc-868f84aa7a09  679.0  506.0  104.0    0.0  0.0   \n",
       "4  2ed6bbc9-980a-4686-a585-aef5e2655ac2  586.0  102.0  104.0  112.0  0.0   \n",
       "\n",
       "     f_7    f_8    f_9   f_10  ...  f_280  f_281     f_282     f_283  \\\n",
       "0  603.0  102.0  116.0  104.0  ...     ND     ND -999997.0 -999997.0   \n",
       "1  680.0  101.0    0.0    0.0  ...     ND     ND -999997.0 -999997.0   \n",
       "2  636.0  102.0  203.0    0.0  ...     ND     ND -999997.0 -999997.0   \n",
       "3  722.0  506.0  104.0    0.0  ...     ND     ND -999997.0 -999997.0   \n",
       "4  614.0  102.0  104.0  112.0  ...     ND     ND -999997.0 -999997.0   \n",
       "\n",
       "      f_284     f_285     f_286     f_287     f_288     f_289  \n",
       "0 -999997.0 -999997.0 -999997.0 -999997.0 -999997.0 -999997.0  \n",
       "1 -999997.0 -999997.0 -999997.0 -999997.0 -999997.0 -999997.0  \n",
       "2 -999997.0 -999997.0 -999997.0 -999997.0 -999997.0 -999997.0  \n",
       "3 -999997.0 -999997.0 -999997.0 -999997.0 -999997.0 -999997.0  \n",
       "4 -999997.0 -999997.0 -999997.0 -999997.0 -999997.0 -999997.0  \n",
       "\n",
       "[5 rows x 289 columns]"
      ]
     },
     "execution_count": 5,
     "metadata": {},
     "output_type": "execute_result"
    }
   ],
   "source": [
    "# F_1 is the client's score . . . certainly important!\n",
    "\n",
    "data.head ()"
   ]
  },
  {
   "cell_type": "code",
   "execution_count": 6,
   "id": "d063eb51",
   "metadata": {},
   "outputs": [],
   "source": [
    "for c in data.columns.values :\n",
    "    if len (data [c].value_counts ()) == 1:\n",
    "        data.drop (c, axis = 1, inplace = True)"
   ]
  },
  {
   "cell_type": "code",
   "execution_count": 7,
   "id": "83433352",
   "metadata": {},
   "outputs": [
    {
     "name": "stdout",
     "output_type": "stream",
     "text": [
      "f_8 is a duplicate of f_3\n",
      "f_13 is a duplicate of f_3\n",
      "f_238 is a duplicate of f_3\n",
      "f_244 is a duplicate of f_3\n",
      "f_250 is a duplicate of f_3\n",
      "f_268 is a duplicate of f_3\n",
      "f_9 is a duplicate of f_4\n",
      "f_14 is a duplicate of f_4\n",
      "f_239 is a duplicate of f_4\n",
      "f_245 is a duplicate of f_4\n",
      "f_251 is a duplicate of f_4\n",
      "f_269 is a duplicate of f_4\n",
      "f_10 is a duplicate of f_5\n",
      "f_15 is a duplicate of f_5\n",
      "f_240 is a duplicate of f_5\n",
      "f_246 is a duplicate of f_5\n",
      "f_252 is a duplicate of f_5\n",
      "f_270 is a duplicate of f_5\n",
      "f_11 is a duplicate of f_6\n",
      "f_16 is a duplicate of f_6\n",
      "f_241 is a duplicate of f_6\n",
      "f_247 is a duplicate of f_6\n",
      "f_253 is a duplicate of f_6\n",
      "f_271 is a duplicate of f_6\n",
      "f_84 is a duplicate of f_21\n",
      "f_132 is a duplicate of f_131\n"
     ]
    }
   ],
   "source": [
    "combination = []\n",
    "\n",
    "for c1 in data.set_index ('uid').columns.values:\n",
    "    for c2 in data.set_index ('uid').columns.values:\n",
    "        combination.append (c1 + c2)\n",
    "        \n",
    "        if (c2 + c1) in combination:\n",
    "            continue\n",
    "        \n",
    "        if (c1 in data.columns.values) & (c2 in data.columns.values):\n",
    "            if (len (data [data [c1] == data [c2]]) == len (data)):\n",
    "                data.drop (c2, axis = 1, inplace = True)\n",
    "                print (c2 + ' is a duplicate of ' + c1)\n",
    "        else:\n",
    "            continue"
   ]
  },
  {
   "cell_type": "code",
   "execution_count": 8,
   "id": "387be149",
   "metadata": {},
   "outputs": [
    {
     "data": {
      "text/plain": [
       "(16347, 225)"
      ]
     },
     "execution_count": 8,
     "metadata": {},
     "output_type": "execute_result"
    }
   ],
   "source": [
    "data.shape"
   ]
  },
  {
   "cell_type": "code",
   "execution_count": 9,
   "id": "6ce3d373",
   "metadata": {},
   "outputs": [
    {
     "data": {
      "text/plain": [
       "Series([], Name: uid, dtype: int64)"
      ]
     },
     "execution_count": 9,
     "metadata": {},
     "output_type": "execute_result"
    }
   ],
   "source": [
    "#no duplicate IDs\n",
    "\n",
    "duplicated_id = data ['uid'].value_counts ()\n",
    "duplicated_id [duplicated_id > 1]"
   ]
  },
  {
   "cell_type": "code",
   "execution_count": 10,
   "id": "be169fee",
   "metadata": {},
   "outputs": [],
   "source": [
    "data_types = data.set_index ('uid').dtypes.reset_index ()\n",
    "data_types.columns = ['variable', 'type']\n",
    "\n",
    "for c in data_types [data_types.type == 'O'].variable.values:\n",
    "    data.rename (columns = {c : c + '_o'}, inplace = True)"
   ]
  },
  {
   "cell_type": "markdown",
   "id": "bb696338",
   "metadata": {},
   "source": [
    "## Categorical variables (probably)"
   ]
  },
  {
   "cell_type": "code",
   "execution_count": 11,
   "id": "73566bfa",
   "metadata": {},
   "outputs": [
    {
     "data": {
      "image/png": "[encoded data removed]",
      "text/plain": [
       "<Figure size 432x288 with 1 Axes>"
      ]
     },
     "metadata": {
      "needs_background": "light"
     },
     "output_type": "display_data"
    },
    {
     "data": {
      "image/png": "[encoded data removed]",
      "text/plain": [
       "<Figure size 432x288 with 1 Axes>"
      ]
     },
     "metadata": {
      "needs_background": "light"
     },
     "output_type": "display_data"
    },
    {
     "data": {
      "image/png": "[encoded data removed]",
      "text/plain": [
       "<Figure size 432x288 with 1 Axes>"
      ]
     },
     "metadata": {
      "needs_background": "light"
     },
     "output_type": "display_data"
    },
    {
     "data": {
      "image/png": "[encoded data removed]",
      "text/plain": [
       "<Figure size 432x288 with 1 Axes>"
      ]
     },
     "metadata": {
      "needs_background": "light"
     },
     "output_type": "display_data"
    },
    {
     "data": {
      "image/png": "[encoded data removed]",
      "text/plain": [
       "<Figure size 432x288 with 1 Axes>"
      ]
     },
     "metadata": {
      "needs_background": "light"
     },
     "output_type": "display_data"
    },
    {
     "data": {
      "image/png": "[encoded data removed]",
      "text/plain": [
       "<Figure size 432x288 with 1 Axes>"
      ]
     },
     "metadata": {
      "needs_background": "light"
     },
     "output_type": "display_data"
    },
    {
     "data": {
      "image/png": "[encoded data removed]",
      "text/plain": [
       "<Figure size 432x288 with 1 Axes>"
      ]
     },
     "metadata": {
      "needs_background": "light"
     },
     "output_type": "display_data"
    },
    {
     "data": {
      "image/png": "[encoded data removed]",
      "text/plain": [
       "<Figure size 432x288 with 1 Axes>"
      ]
     },
     "metadata": {
      "needs_background": "light"
     },
     "output_type": "display_data"
    },
    {
     "data": {
      "image/png": "[encoded data removed]",
      "text/plain": [
       "<Figure size 432x288 with 1 Axes>"
      ]
     },
     "metadata": {
      "needs_background": "light"
     },
     "output_type": "display_data"
    },
    {
     "data": {
      "image/png": "[encoded data removed]",
      "text/plain": [
       "<Figure size 432x288 with 1 Axes>"
      ]
     },
     "metadata": {
      "needs_background": "light"
     },
     "output_type": "display_data"
    },
    {
     "data": {
      "image/png": "[encoded data removed]",
      "text/plain": [
       "<Figure size 432x288 with 1 Axes>"
      ]
     },
     "metadata": {
      "needs_background": "light"
     },
     "output_type": "display_data"
    },
    {
     "data": {
      "image/png": "[encoded data removed]",
      "text/plain": [
       "<Figure size 432x288 with 1 Axes>"
      ]
     },
     "metadata": {
      "needs_background": "light"
     },
     "output_type": "display_data"
    },
    {
     "data": {
      "image/png": "[encoded data removed]",
      "text/plain": [
       "<Figure size 432x288 with 1 Axes>"
      ]
     },
     "metadata": {
      "needs_background": "light"
     },
     "output_type": "display_data"
    },
    {
     "data": {
      "image/png": "[encoded data removed]",
      "text/plain": [
       "<Figure size 432x288 with 1 Axes>"
      ]
     },
     "metadata": {
      "needs_background": "light"
     },
     "output_type": "display_data"
    },
    {
     "data": {
      "image/png": "[encoded data removed]",
      "text/plain": [
       "<Figure size 432x288 with 1 Axes>"
      ]
     },
     "metadata": {
      "needs_background": "light"
     },
     "output_type": "display_data"
    },
    {
     "data": {
      "image/png": "[encoded data removed]",
      "text/plain": [
       "<Figure size 432x288 with 1 Axes>"
      ]
     },
     "metadata": {
      "needs_background": "light"
     },
     "output_type": "display_data"
    },
    {
     "data": {
      "image/png": "[encoded data removed]",
      "text/plain": [
       "<Figure size 432x288 with 1 Axes>"
      ]
     },
     "metadata": {
      "needs_background": "light"
     },
     "output_type": "display_data"
    },
    {
     "data": {
      "image/png": "[encoded data removed]",
      "text/plain": [
       "<Figure size 432x288 with 1 Axes>"
      ]
     },
     "metadata": {
      "needs_background": "light"
     },
     "output_type": "display_data"
    }
   ],
   "source": [
    "for c in data.columns.values :\n",
    "    if (len (data [c].value_counts ()) < 10) & (data [c].dtype == float):\n",
    "        data [[c]].plot.hist ()\n",
    "        data.rename (columns = {c : c + '_c'}, inplace = True)"
   ]
  },
  {
   "cell_type": "code",
   "execution_count": 12,
   "id": "08ec8823",
   "metadata": {},
   "outputs": [
    {
     "name": "stdout",
     "output_type": "stream",
     "text": [
      "f_23\n",
      "D     7996\n",
      "0     4544\n",
      "U     2896\n",
      "1      521\n",
      "2      130\n",
      "6       78\n",
      "3       78\n",
      "4       62\n",
      "5       29\n",
      "ND      13\n",
      "Name: f_23_o, dtype: int64\n",
      "f_24\n",
      "D     7996\n",
      "U     3633\n",
      "0     3576\n",
      "1      677\n",
      "2      171\n",
      "3       94\n",
      "6       82\n",
      "4       71\n",
      "5       34\n",
      "ND      13\n",
      "Name: f_24_o, dtype: int64\n",
      "f_25\n",
      "D     7996\n",
      "U     4505\n",
      "0     2421\n",
      "1      853\n",
      "2      229\n",
      "3      116\n",
      "6       92\n",
      "4       82\n",
      "5       40\n",
      "ND      13\n",
      "Name: f_25_o, dtype: int64\n",
      "f_26\n",
      "D     7996\n",
      "U     4984\n",
      "0     1538\n",
      "1     1118\n",
      "2      298\n",
      "3      144\n",
      "6      117\n",
      "4       95\n",
      "5       44\n",
      "ND      13\n",
      "Name: f_26_o, dtype: int64\n",
      "f_27\n",
      "D     7996\n",
      "U     4980\n",
      "1     1327\n",
      "0     1216\n",
      "2      364\n",
      "3      165\n",
      "6      128\n",
      "4      108\n",
      "5       50\n",
      "ND      13\n",
      "Name: f_27_o, dtype: int64\n",
      "f_28\n",
      "D     7997\n",
      "U     4947\n",
      "1     1465\n",
      "0     1018\n",
      "2      410\n",
      "3      187\n",
      "6      133\n",
      "4      123\n",
      "5       54\n",
      "ND      13\n",
      "Name: f_28_o, dtype: int64\n",
      "f_43\n",
      "0    12238\n",
      "U     2237\n",
      "D     1243\n",
      "1      248\n",
      "2      122\n",
      "6       80\n",
      "3       76\n",
      "4       47\n",
      "5       47\n",
      "?        9\n",
      "Name: f_43_o, dtype: int64\n",
      "f_44\n",
      "0     12362\n",
      "U      1793\n",
      "D      1462\n",
      "1       244\n",
      "2       159\n",
      "3        99\n",
      "6        95\n",
      "4        62\n",
      "5        58\n",
      "?        11\n",
      "ND        2\n",
      "Name: f_44_o, dtype: int64\n",
      "f_114\n",
      "D    9004\n",
      "U    5823\n",
      "0    1068\n",
      "1     243\n",
      "2      62\n",
      "6      51\n",
      "3      44\n",
      "4      38\n",
      "5      14\n",
      "Name: f_114_o, dtype: int64\n",
      "f_115\n",
      "D     8212\n",
      "U     4206\n",
      "0     2773\n",
      "1      699\n",
      "2      160\n",
      "3       98\n",
      "6       90\n",
      "4       65\n",
      "5       37\n",
      "ND       7\n",
      "Name: f_115_o, dtype: int64\n",
      "f_116\n",
      "D     8359\n",
      "U     5026\n",
      "0     1520\n",
      "1      879\n",
      "2      226\n",
      "3      119\n",
      "6       91\n",
      "4       79\n",
      "5       42\n",
      "ND       6\n",
      "Name: f_116_o, dtype: int64\n",
      "f_117\n",
      "D    8593\n",
      "U    5335\n",
      "1    1132\n",
      "0     607\n",
      "2     290\n",
      "3     152\n",
      "6     104\n",
      "4      90\n",
      "5      44\n",
      "Name: f_117_o, dtype: int64\n",
      "f_118\n",
      "D    8885\n",
      "U    4847\n",
      "1    1518\n",
      "2     416\n",
      "0     191\n",
      "3     186\n",
      "6     124\n",
      "4     117\n",
      "5      63\n",
      "Name: f_118_o, dtype: int64\n",
      "f_119\n",
      "D    8932\n",
      "U    5747\n",
      "0    1227\n",
      "1     231\n",
      "2      61\n",
      "6      55\n",
      "3      44\n",
      "4      37\n",
      "5      13\n",
      "Name: f_119_o, dtype: int64\n",
      "f_120\n",
      "D     7919\n",
      "0     6388\n",
      "U     1508\n",
      "1      245\n",
      "2       74\n",
      "6       74\n",
      "3       62\n",
      "4       45\n",
      "5       18\n",
      "ND      14\n",
      "Name: f_120_o, dtype: int64\n",
      "f_121\n",
      "D     7974\n",
      "0     6053\n",
      "U     1772\n",
      "1      259\n",
      "2       78\n",
      "6       66\n",
      "3       64\n",
      "4       50\n",
      "5       18\n",
      "ND      13\n",
      "Name: f_121_o, dtype: int64\n",
      "f_122\n",
      "D     7974\n",
      "U     4496\n",
      "0     2488\n",
      "1      840\n",
      "2      226\n",
      "3      113\n",
      "4       80\n",
      "6       79\n",
      "5       38\n",
      "ND      13\n",
      "Name: f_122_o, dtype: int64\n",
      "f_125\n",
      "ND    5896\n",
      "0     5266\n",
      "U     2651\n",
      "D     1483\n",
      "1      464\n",
      "2      212\n",
      "3      136\n",
      "4       90\n",
      "6       76\n",
      "5       73\n",
      "Name: f_125_o, dtype: int64\n",
      "f_126\n",
      "0     7536\n",
      "ND    4203\n",
      "U     2164\n",
      "D     1503\n",
      "1      399\n",
      "2      189\n",
      "3      123\n",
      "4       92\n",
      "5       71\n",
      "6       67\n",
      "Name: f_126_o, dtype: int64\n",
      "f_127\n",
      "0     6376\n",
      "ND    4202\n",
      "U     3193\n",
      "D     1503\n",
      "1      487\n",
      "2      212\n",
      "3      134\n",
      "4       96\n",
      "6       73\n",
      "5       71\n",
      "Name: f_127_o, dtype: int64\n",
      "f_128\n",
      "0     7823\n",
      "D     3605\n",
      "U     2123\n",
      "ND    1764\n",
      "1      429\n",
      "2      183\n",
      "6      153\n",
      "3      111\n",
      "4       88\n",
      "5       68\n",
      "Name: f_128_o, dtype: int64\n",
      "f_129\n",
      "0     6738\n",
      "D     3605\n",
      "U     3037\n",
      "ND    1764\n",
      "1      540\n",
      "2      212\n",
      "6      162\n",
      "3      126\n",
      "4       97\n",
      "5       66\n",
      "Name: f_129_o, dtype: int64\n",
      "f_130\n",
      "0     5507\n",
      "U     4102\n",
      "D     3605\n",
      "ND    1764\n",
      "1      648\n",
      "2      241\n",
      "6      169\n",
      "3      142\n",
      "4       97\n",
      "5       72\n",
      "Name: f_130_o, dtype: int64\n",
      "f_143\n",
      "D     7996\n",
      "0     6008\n",
      "U     1785\n",
      "1      261\n",
      "2       78\n",
      "6       75\n",
      "3       63\n",
      "4       49\n",
      "5       19\n",
      "ND      13\n",
      "Name: f_143_o, dtype: int64\n",
      "f_149\n",
      "ND    15275\n",
      "0       444\n",
      "D       300\n",
      "6        78\n",
      "2        52\n",
      "3        47\n",
      "1        43\n",
      "U        39\n",
      "4        39\n",
      "5        30\n",
      "Name: f_149_o, dtype: int64\n",
      "f_150\n",
      "ND    15691\n",
      "D       213\n",
      "6        81\n",
      "U        69\n",
      "2        65\n",
      "0        60\n",
      "3        49\n",
      "1        46\n",
      "4        42\n",
      "5        31\n",
      "Name: f_150_o, dtype: int64\n",
      "f_151\n",
      "ND    15670\n",
      "D       220\n",
      "6        86\n",
      "U        78\n",
      "2        63\n",
      "0        56\n",
      "3        52\n",
      "1        51\n",
      "4        40\n",
      "5        31\n",
      "Name: f_151_o, dtype: int64\n",
      "f_152\n",
      "ND    15628\n",
      "D       239\n",
      "U        95\n",
      "6        93\n",
      "2        63\n",
      "3        57\n",
      "1        52\n",
      "0        47\n",
      "4        44\n",
      "5        29\n",
      "Name: f_152_o, dtype: int64\n",
      "f_153\n",
      "ND    15717\n",
      "D       203\n",
      "0        92\n",
      "6        79\n",
      "2        55\n",
      "3        49\n",
      "1        46\n",
      "4        39\n",
      "U        35\n",
      "5        31\n",
      "?         1\n",
      "Name: f_153_o, dtype: int64\n",
      "f_154\n",
      "D     7991\n",
      "0     6018\n",
      "U     1785\n",
      "1      263\n",
      "2       77\n",
      "6       73\n",
      "3       63\n",
      "4       45\n",
      "5       19\n",
      "ND      13\n",
      "Name: f_154_o, dtype: int64\n",
      "f_173\n",
      "ND    16131\n",
      "0        69\n",
      "U        59\n",
      "1        40\n",
      "2        24\n",
      "3        14\n",
      "4         5\n",
      "5         3\n",
      "6         2\n",
      "Name: f_173_o, dtype: int64\n",
      "f_174\n",
      "ND    16131\n",
      "U       100\n",
      "1        36\n",
      "0        26\n",
      "2        25\n",
      "3        15\n",
      "4         7\n",
      "6         4\n",
      "5         3\n",
      "Name: f_174_o, dtype: int64\n",
      "f_175\n",
      "ND    16202\n",
      "U        91\n",
      "0        18\n",
      "1        16\n",
      "2        10\n",
      "3         4\n",
      "4         4\n",
      "5         2\n",
      "Name: f_175_o, dtype: int64\n",
      "f_183\n",
      "D     6670\n",
      "0     6361\n",
      "ND    2078\n",
      "U      797\n",
      "1      156\n",
      "6      111\n",
      "2       69\n",
      "3       52\n",
      "4       33\n",
      "5       19\n",
      "?        1\n",
      "Name: f_183_o, dtype: int64\n",
      "f_184\n",
      "D     6669\n",
      "0     4173\n",
      "U     2818\n",
      "ND    2078\n",
      "1      259\n",
      "6      115\n",
      "2      105\n",
      "3       67\n",
      "4       38\n",
      "5       25\n",
      "Name: f_184_o, dtype: int64\n",
      "f_185\n",
      "D     6669\n",
      "U     3977\n",
      "0     2957\n",
      "ND    2078\n",
      "1      298\n",
      "6      115\n",
      "2      112\n",
      "3       73\n",
      "4       41\n",
      "5       27\n",
      "Name: f_185_o, dtype: int64\n",
      "f_186\n",
      "0     7679\n",
      "D     4679\n",
      "ND    2631\n",
      "U      634\n",
      "1      269\n",
      "2      125\n",
      "3      109\n",
      "6       97\n",
      "4       72\n",
      "5       51\n",
      "?        1\n",
      "Name: f_186_o, dtype: int64\n",
      "f_187\n",
      "0     6330\n",
      "D     4679\n",
      "ND    2631\n",
      "U     1345\n",
      "1      683\n",
      "2      245\n",
      "3      152\n",
      "6      116\n",
      "4       93\n",
      "5       73\n",
      "Name: f_187_o, dtype: int64\n",
      "f_188\n",
      "0     5552\n",
      "D     4679\n",
      "ND    2631\n",
      "U     1831\n",
      "1      834\n",
      "2      322\n",
      "3      185\n",
      "6      124\n",
      "4      101\n",
      "5       88\n",
      "Name: f_188_o, dtype: int64\n",
      "f_189\n",
      "ND    12071\n",
      "0      4002\n",
      "6        80\n",
      "1        48\n",
      "D        42\n",
      "2        27\n",
      "U        27\n",
      "4        19\n",
      "5        15\n",
      "3        15\n",
      "?         1\n",
      "Name: f_189_o, dtype: int64\n",
      "f_190\n",
      "ND    12072\n",
      "0      3783\n",
      "U       160\n",
      "6        92\n",
      "1        85\n",
      "2        45\n",
      "D        42\n",
      "5        26\n",
      "3        23\n",
      "4        19\n",
      "Name: f_190_o, dtype: int64\n",
      "f_191\n",
      "ND    12072\n",
      "0      3605\n",
      "U       289\n",
      "1       107\n",
      "6       106\n",
      "2        52\n",
      "D        42\n",
      "3        28\n",
      "4        26\n",
      "5        20\n",
      "Name: f_191_o, dtype: int64\n",
      "f_193\n",
      "0     11769\n",
      "D      2922\n",
      "U       621\n",
      "ND      615\n",
      "6       130\n",
      "1        90\n",
      "2        75\n",
      "3        57\n",
      "4        43\n",
      "5        25\n",
      "Name: f_193_o, dtype: int64\n",
      "f_194\n",
      "0     11209\n",
      "D      2920\n",
      "U       991\n",
      "ND      615\n",
      "1       182\n",
      "6       148\n",
      "2       117\n",
      "3        81\n",
      "4        51\n",
      "5        33\n",
      "Name: f_194_o, dtype: int64\n",
      "f_195\n",
      "0     10772\n",
      "D      2921\n",
      "U      1314\n",
      "ND      615\n",
      "1       225\n",
      "6       154\n",
      "2       148\n",
      "3        96\n",
      "4        60\n",
      "5        42\n",
      "Name: f_195_o, dtype: int64\n",
      "f_196\n",
      "ND    15717\n",
      "D       203\n",
      "6        93\n",
      "U        93\n",
      "2        57\n",
      "3        47\n",
      "1        42\n",
      "4        40\n",
      "0        28\n",
      "5        27\n",
      "Name: f_196_o, dtype: int64\n",
      "f_197\n",
      "0     7830\n",
      "ND    4432\n",
      "U     2292\n",
      "D      487\n",
      "1      452\n",
      "2      234\n",
      "6      180\n",
      "3      163\n",
      "4      147\n",
      "5      130\n",
      "Name: f_197_o, dtype: int64\n",
      "f_198\n",
      "0     5996\n",
      "U     4330\n",
      "D     2093\n",
      "ND    1990\n",
      "1      769\n",
      "6      364\n",
      "2      329\n",
      "3      221\n",
      "4      133\n",
      "5      122\n",
      "Name: f_198_o, dtype: int64\n",
      "f_202\n",
      "0     6945\n",
      "U     3843\n",
      "D     1825\n",
      "6     1193\n",
      "1     1133\n",
      "2      471\n",
      "3      347\n",
      "4      256\n",
      "5      228\n",
      "ND     106\n",
      "Name: f_202_o, dtype: int64\n",
      "f_203\n",
      "D     6701\n",
      "U     5379\n",
      "0     1558\n",
      "1     1524\n",
      "2      455\n",
      "6      265\n",
      "3      218\n",
      "4      146\n",
      "5       74\n",
      "ND      27\n",
      "Name: f_203_o, dtype: int64\n",
      "f_204\n",
      "U     5362\n",
      "0     4381\n",
      "D     2958\n",
      "1     1290\n",
      "6     1053\n",
      "2      493\n",
      "3      335\n",
      "4      216\n",
      "5      188\n",
      "ND      71\n",
      "Name: f_204_o, dtype: int64\n",
      "f_205\n",
      "U     6074\n",
      "D     4489\n",
      "0     2477\n",
      "1     1381\n",
      "6      748\n",
      "2      478\n",
      "3      314\n",
      "4      194\n",
      "5      147\n",
      "ND      45\n",
      "Name: f_205_o, dtype: int64\n",
      "f_206\n",
      "D     6279\n",
      "U     6115\n",
      "1     1470\n",
      "0     1025\n",
      "2      461\n",
      "6      455\n",
      "3      253\n",
      "4      165\n",
      "5      105\n",
      "ND      19\n",
      "Name: f_206_o, dtype: int64\n",
      "f_217\n",
      "ND    11159\n",
      "D      2629\n",
      "U      2191\n",
      "0       176\n",
      "1        82\n",
      "6        62\n",
      "2        23\n",
      "3        18\n",
      "5         4\n",
      "4         3\n",
      "Name: f_217_o, dtype: int64\n",
      "f_218\n",
      "ND    13621\n",
      "D      1942\n",
      "U       471\n",
      "1       114\n",
      "0        66\n",
      "6        49\n",
      "2        45\n",
      "3        25\n",
      "4         7\n",
      "5         7\n",
      "Name: f_218_o, dtype: int64\n",
      "f_219\n",
      "ND    13462\n",
      "D      1985\n",
      "U       570\n",
      "1       139\n",
      "2        54\n",
      "6        53\n",
      "0        44\n",
      "3        26\n",
      "4         7\n",
      "5         7\n",
      "Name: f_219_o, dtype: int64\n"
     ]
    }
   ],
   "source": [
    "# Gosh, I have no idea what these would be\n",
    "# There's U, D, ND and then 0-5\n",
    "\n",
    "for c in data_types [data_types.type == 'O'].variable.values:\n",
    "    print (c)\n",
    "    print (data [c + '_o'].value_counts ())"
   ]
  },
  {
   "cell_type": "code",
   "execution_count": 13,
   "id": "b8a83efd",
   "metadata": {},
   "outputs": [],
   "source": [
    "defaults = pd.read_csv ('../../data/loan_default_indicator.csv')"
   ]
  },
  {
   "cell_type": "code",
   "execution_count": 14,
   "id": "57788738",
   "metadata": {},
   "outputs": [],
   "source": [
    "data = data.join (defaults.set_index ('uid'), on = 'uid')"
   ]
  },
  {
   "cell_type": "code",
   "execution_count": 15,
   "id": "ee9c743b",
   "metadata": {},
   "outputs": [],
   "source": [
    "# No obvious leakage, let's keep checking\n",
    "\n",
    "for c1 in data.set_index ('uid').columns.values [:-2]:\n",
    "    \n",
    "    if (len (data [data [c1] == data ['number_of_defaults']]) == len (data)):\n",
    "        data.drop (c1, axis = 1, inplace = True)\n",
    "        print (c1 + ' is a duplicate of number of defaults')\n",
    "    elif (len (data [data [c1] == data ['default']]) == len (data)):\n",
    "        data.drop (c1, axis = 1, inplace = True)\n",
    "        print (c1 + ' is a duplicate of defaulted')    \n",
    "    else:\n",
    "        continue"
   ]
  },
  {
   "cell_type": "code",
   "execution_count": 16,
   "id": "26939039",
   "metadata": {},
   "outputs": [],
   "source": [
    "for c1 in data.set_index ('uid').columns.values [:-2]:\n",
    "    \n",
    "    if (len (data [data [c1] == 0]) == len (data [data ['number_of_defaults'] == 0])):\n",
    "        print ('Have a look at ' + c1)  \n",
    "    else:\n",
    "        continue\n",
    "        \n",
    "for c1 in data.set_index ('uid').columns.values [:-2]:\n",
    "    \n",
    "    if (len (data [data [c1] != 0]) == len (data [data ['number_of_defaults'] != 0])):\n",
    "        print ('Have a look at ' + c1)  \n",
    "    else:\n",
    "        continue"
   ]
  },
  {
   "cell_type": "code",
   "execution_count": 17,
   "id": "d526a60a",
   "metadata": {},
   "outputs": [],
   "source": [
    "data.drop (['number_of_defaults', 'default'], axis = 1, inplace = True)"
   ]
  },
  {
   "cell_type": "code",
   "execution_count": 18,
   "id": "60d2c295",
   "metadata": {},
   "outputs": [],
   "source": [
    "data.to_csv ('../../data/clean_client_information.csv', index = False)"
   ]
  },
  {
   "cell_type": "code",
   "execution_count": null,
   "id": "0af5a7e8",
   "metadata": {},
   "outputs": [],
   "source": []
  }
 ],
 "metadata": {
  "kernelspec": {
   "display_name": "Python 3 (ipykernel)",
   "language": "python",
   "name": "python3"
  },
  "language_info": {
   "codemirror_mode": {
    "name": "ipython",
    "version": 3
   },
   "file_extension": ".py",
   "mimetype": "text/x-python",
   "name": "python",
   "nbconvert_exporter": "python",
   "pygments_lexer": "ipython3",
   "version": "3.9.7"
  }
 },
 "nbformat": 4,
 "nbformat_minor": 5
}
