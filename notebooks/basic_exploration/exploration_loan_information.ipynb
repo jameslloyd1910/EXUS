{
 "cells": [
  {
   "cell_type": "code",
   "execution_count": 1,
   "id": "92d03470",
   "metadata": {},
   "outputs": [],
   "source": [
    "import pandas as pd\n",
    "import matplotlib.pyplot as plt"
   ]
  },
  {
   "cell_type": "markdown",
   "id": "ff8dcfcd",
   "metadata": {},
   "source": [
    "### Loan_Information.csv: data providing information related to loans."
   ]
  },
  {
   "cell_type": "markdown",
   "id": "f082f90c",
   "metadata": {},
   "source": [
    " - UID - customer ID\n",
    " - Recordnumber - customer’s loan id\n",
    " - Openbalance - loan opening balance\n",
    " - Accstartdate - account opening date\n",
    " - First_month - month when customer first logged into online servicing\n",
    " - Last_month - month when customer last logged into online servicing\n",
    " - Repayperiod - original loan term\n",
    " - Searchdate - date when customer data was uploaded to the database"
   ]
  },
  {
   "cell_type": "code",
   "execution_count": 2,
   "id": "2c7e8953",
   "metadata": {},
   "outputs": [],
   "source": [
    "data = pd.read_csv ('../../../assignment_datasets/Loan_Information.csv')\n",
    "data.columns = pd.Series (data.columns).astype (str).apply (lambda x : x.lower ()).values"
   ]
  },
  {
   "cell_type": "code",
   "execution_count": 3,
   "id": "52c3210d",
   "metadata": {},
   "outputs": [
    {
     "data": {
      "text/plain": [
       "(58687, 8)"
      ]
     },
     "execution_count": 3,
     "metadata": {},
     "output_type": "execute_result"
    }
   ],
   "source": [
    "data.shape"
   ]
  },
  {
   "cell_type": "code",
   "execution_count": 4,
   "id": "4bff114e",
   "metadata": {},
   "outputs": [
    {
     "data": {
      "text/plain": [
       "Index(['uid', 'recordnumber', 'openbalance', 'accstartdate', 'first_month',\n",
       "       'last_month', 'repayperiod', 'searchdate'],\n",
       "      dtype='object')"
      ]
     },
     "execution_count": 4,
     "metadata": {},
     "output_type": "execute_result"
    }
   ],
   "source": [
    "data.columns"
   ]
  },
  {
   "cell_type": "code",
   "execution_count": 5,
   "id": "5f1387ba",
   "metadata": {},
   "outputs": [
    {
     "data": {
      "text/plain": [
       "(16347,)"
      ]
     },
     "execution_count": 5,
     "metadata": {},
     "output_type": "execute_result"
    }
   ],
   "source": [
    "# same number of IDs as other data sets\n",
    "\n",
    "data.uid.drop_duplicates ().shape"
   ]
  },
  {
   "cell_type": "code",
   "execution_count": 6,
   "id": "67200ed9",
   "metadata": {},
   "outputs": [
    {
     "data": {
      "text/plain": [
       "Series([], dtype: int64)"
      ]
     },
     "execution_count": 6,
     "metadata": {},
     "output_type": "execute_result"
    }
   ],
   "source": [
    "# One entry per UID and record number\n",
    "\n",
    "duplicate_entries = data [['uid', 'recordnumber']].value_counts ()\n",
    "duplicate_entries [duplicate_entries > 1]"
   ]
  },
  {
   "cell_type": "code",
   "execution_count": 7,
   "id": "4e020044",
   "metadata": {
    "scrolled": true
   },
   "outputs": [
    {
     "data": {
      "text/html": [
       "<div>\n",
       "<style scoped>\n",
       "    .dataframe tbody tr th:only-of-type {\n",
       "        vertical-align: middle;\n",
       "    }\n",
       "\n",
       "    .dataframe tbody tr th {\n",
       "        vertical-align: top;\n",
       "    }\n",
       "\n",
       "    .dataframe thead th {\n",
       "        text-align: right;\n",
       "    }\n",
       "</style>\n",
       "<table border=\"1\" class=\"dataframe\">\n",
       "  <thead>\n",
       "    <tr style=\"text-align: right;\">\n",
       "      <th></th>\n",
       "      <th>uid</th>\n",
       "      <th>recordnumber</th>\n",
       "      <th>openbalance</th>\n",
       "      <th>accstartdate</th>\n",
       "      <th>first_month</th>\n",
       "      <th>last_month</th>\n",
       "      <th>repayperiod</th>\n",
       "      <th>searchdate</th>\n",
       "    </tr>\n",
       "  </thead>\n",
       "  <tbody>\n",
       "    <tr>\n",
       "      <th>0</th>\n",
       "      <td>784c964e-d3e1-4dd3-af6c-4288c4b37d27</td>\n",
       "      <td>1</td>\n",
       "      <td>600.0</td>\n",
       "      <td>2014-09-29</td>\n",
       "      <td>2014-10-01</td>\n",
       "      <td>2016-07-01</td>\n",
       "      <td>24.0</td>\n",
       "      <td>20181011</td>\n",
       "    </tr>\n",
       "    <tr>\n",
       "      <th>1</th>\n",
       "      <td>fc30d99d-106a-44bf-bc33-9a95f0d2d258</td>\n",
       "      <td>6</td>\n",
       "      <td>500.0</td>\n",
       "      <td>2014-01-24</td>\n",
       "      <td>2014-02-01</td>\n",
       "      <td>2014-07-01</td>\n",
       "      <td>6.0</td>\n",
       "      <td>20180524</td>\n",
       "    </tr>\n",
       "    <tr>\n",
       "      <th>2</th>\n",
       "      <td>fc30d99d-106a-44bf-bc33-9a95f0d2d258</td>\n",
       "      <td>9</td>\n",
       "      <td>1149.0</td>\n",
       "      <td>2013-10-18</td>\n",
       "      <td>2013-11-01</td>\n",
       "      <td>2018-05-01</td>\n",
       "      <td>NaN</td>\n",
       "      <td>20180524</td>\n",
       "    </tr>\n",
       "    <tr>\n",
       "      <th>3</th>\n",
       "      <td>fc30d99d-106a-44bf-bc33-9a95f0d2d258</td>\n",
       "      <td>14</td>\n",
       "      <td>446.0</td>\n",
       "      <td>2015-07-01</td>\n",
       "      <td>2015-08-01</td>\n",
       "      <td>2015-12-01</td>\n",
       "      <td>5.0</td>\n",
       "      <td>20180524</td>\n",
       "    </tr>\n",
       "    <tr>\n",
       "      <th>4</th>\n",
       "      <td>89761744-b42f-43cd-bd3c-5c363c44671a</td>\n",
       "      <td>1</td>\n",
       "      <td>1492.0</td>\n",
       "      <td>2014-10-06</td>\n",
       "      <td>2014-11-01</td>\n",
       "      <td>2015-11-01</td>\n",
       "      <td>13.0</td>\n",
       "      <td>20190924</td>\n",
       "    </tr>\n",
       "  </tbody>\n",
       "</table>\n",
       "</div>"
      ],
      "text/plain": [
       "                                    uid  recordnumber  openbalance  \\\n",
       "0  784c964e-d3e1-4dd3-af6c-4288c4b37d27             1        600.0   \n",
       "1  fc30d99d-106a-44bf-bc33-9a95f0d2d258             6        500.0   \n",
       "2  fc30d99d-106a-44bf-bc33-9a95f0d2d258             9       1149.0   \n",
       "3  fc30d99d-106a-44bf-bc33-9a95f0d2d258            14        446.0   \n",
       "4  89761744-b42f-43cd-bd3c-5c363c44671a             1       1492.0   \n",
       "\n",
       "  accstartdate first_month  last_month  repayperiod  searchdate  \n",
       "0   2014-09-29  2014-10-01  2016-07-01         24.0    20181011  \n",
       "1   2014-01-24  2014-02-01  2014-07-01          6.0    20180524  \n",
       "2   2013-10-18  2013-11-01  2018-05-01          NaN    20180524  \n",
       "3   2015-07-01  2015-08-01  2015-12-01          5.0    20180524  \n",
       "4   2014-10-06  2014-11-01  2015-11-01         13.0    20190924  "
      ]
     },
     "execution_count": 7,
     "metadata": {},
     "output_type": "execute_result"
    }
   ],
   "source": [
    "data.head ()"
   ]
  },
  {
   "cell_type": "code",
   "execution_count": 8,
   "id": "eee610f6",
   "metadata": {},
   "outputs": [],
   "source": [
    "data.searchdate = (data.searchdate.astype (str).apply (lambda x : x [:4]) + '-' + \n",
    "                   data.searchdate.astype (str).apply (lambda x : x [4:6])  + '-' +\n",
    "                   data.searchdate.astype (str).apply (lambda x : x [6:]))"
   ]
  },
  {
   "cell_type": "code",
   "execution_count": 9,
   "id": "2d3385f0",
   "metadata": {},
   "outputs": [],
   "source": [
    "data.accstartdate = pd.to_datetime (data.accstartdate, yearfirst=True)\n",
    "data.first_month = pd.to_datetime (data.first_month, yearfirst=True)\n",
    "data.last_month = pd.to_datetime (data.last_month, yearfirst=True)\n",
    "data.searchdate = pd.to_datetime (data.searchdate, yearfirst=True)"
   ]
  },
  {
   "cell_type": "code",
   "execution_count": 10,
   "id": "2302e55c",
   "metadata": {},
   "outputs": [
    {
     "data": {
      "text/plain": [
       "(13013, 2)"
      ]
     },
     "execution_count": 10,
     "metadata": {},
     "output_type": "execute_result"
    }
   ],
   "source": [
    "# Potential feature? Number of loans per id?\n",
    "\n",
    "number_of_loans = (data ['uid']\n",
    "                   .value_counts ()\n",
    "                   .reset_index ()\n",
    "                   .rename (columns = {'index' : 'uid', \n",
    "                                       'uid' : 'total_loan_number'}))\n",
    "\n",
    "number_of_loans [number_of_loans.total_loan_number > 1].shape"
   ]
  },
  {
   "cell_type": "code",
   "execution_count": 11,
   "id": "895e7fdc",
   "metadata": {},
   "outputs": [
    {
     "data": {
      "text/plain": [
       "(2720, 8)"
      ]
     },
     "execution_count": 11,
     "metadata": {},
     "output_type": "execute_result"
    }
   ],
   "source": [
    "# Hmmm, there's some thinking to do here—some assumptions to be made about the loan type\n",
    "\n",
    "data [data.repayperiod.isna ()].shape"
   ]
  },
  {
   "cell_type": "code",
   "execution_count": 12,
   "id": "e50edc19",
   "metadata": {},
   "outputs": [],
   "source": [
    "null_repay_data = (data [data.repayperiod.isna ()]\n",
    "                   .uid\n",
    "                   .value_counts ()\n",
    "                   .reset_index ()\n",
    "                   .rename (columns = {'index' : 'uid', \n",
    "                                       'uid' : 'no_repay_loan_number'})\n",
    "                  ).fillna (0)"
   ]
  },
  {
   "cell_type": "code",
   "execution_count": 14,
   "id": "82eb6d79",
   "metadata": {},
   "outputs": [],
   "source": [
    "data_valid = data [(data.repayperiod >= 12) & (data.repayperiod <= 60)]\n",
    "\n",
    "number_of_valid_loans = (data_valid ['uid']\n",
    "                         .value_counts ()\n",
    "                         .reset_index ()\n",
    "                         .rename (columns = {'index' : 'uid', \n",
    "                                             'uid' : 'total_valid_loan_number'}))"
   ]
  },
  {
   "cell_type": "code",
   "execution_count": 15,
   "id": "ce640241",
   "metadata": {},
   "outputs": [],
   "source": [
    "number_of_loans = (number_of_loans\n",
    "                   .join (number_of_valid_loans.set_index ('uid'), on = 'uid')\n",
    "                   .join (null_repay_data.set_index ('uid'), on = 'uid')\n",
    "                  ).fillna (0)"
   ]
  },
  {
   "cell_type": "code",
   "execution_count": 16,
   "id": "63823cd3",
   "metadata": {},
   "outputs": [],
   "source": [
    "number_of_loans.to_csv ('../../data/loans_per_customer.csv', index = False)"
   ]
  },
  {
   "cell_type": "code",
   "execution_count": 17,
   "id": "d785d66d",
   "metadata": {},
   "outputs": [],
   "source": [
    "data.to_csv ('../../data/loan_information.csv', index = False)"
   ]
  }
 ],
 "metadata": {
  "kernelspec": {
   "display_name": "Python 3 (ipykernel)",
   "language": "python",
   "name": "python3"
  },
  "language_info": {
   "codemirror_mode": {
    "name": "ipython",
    "version": 3
   },
   "file_extension": ".py",
   "mimetype": "text/x-python",
   "name": "python",
   "nbconvert_exporter": "python",
   "pygments_lexer": "ipython3",
   "version": "3.9.7"
  }
 },
 "nbformat": 4,
 "nbformat_minor": 5
}
