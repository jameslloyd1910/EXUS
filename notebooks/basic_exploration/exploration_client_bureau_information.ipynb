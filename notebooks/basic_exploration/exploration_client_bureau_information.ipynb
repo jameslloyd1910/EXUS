{
 "cells": [
  {
   "cell_type": "code",
   "execution_count": 7,
   "id": "d9d92bfe",
   "metadata": {},
   "outputs": [],
   "source": [
    "import pandas as pd\n",
    "import matplotlib.pyplot as plt"
   ]
  },
  {
   "cell_type": "markdown",
   "id": "7547a620",
   "metadata": {},
   "source": [
    "### Credit_Bureau_Information.csv: data providing risk-based information."
   ]
  },
  {
   "cell_type": "markdown",
   "id": "deb10e0d",
   "metadata": {},
   "source": [
    " - UID - customer ID\n",
    " - Score - acquisition score\n",
    " - Class - customer type"
   ]
  },
  {
   "cell_type": "code",
   "execution_count": 8,
   "id": "6008bb42",
   "metadata": {},
   "outputs": [],
   "source": [
    "data = pd.read_csv ('../../assignment_datasets/Client_Bureau_Information.csv')\n",
    "data.columns = pd.Series (data.columns).astype (str).apply (lambda x : x.lower ()).values"
   ]
  },
  {
   "cell_type": "code",
   "execution_count": 9,
   "id": "9703078b",
   "metadata": {},
   "outputs": [
    {
     "data": {
      "text/plain": [
       "Index(['uid', 'score', 'class'], dtype='object')"
      ]
     },
     "execution_count": 9,
     "metadata": {},
     "output_type": "execute_result"
    }
   ],
   "source": [
    "data.columns"
   ]
  },
  {
   "cell_type": "code",
   "execution_count": 10,
   "id": "e8a7d99d",
   "metadata": {},
   "outputs": [
    {
     "data": {
      "text/html": [
       "<div>\n",
       "<style scoped>\n",
       "    .dataframe tbody tr th:only-of-type {\n",
       "        vertical-align: middle;\n",
       "    }\n",
       "\n",
       "    .dataframe tbody tr th {\n",
       "        vertical-align: top;\n",
       "    }\n",
       "\n",
       "    .dataframe thead th {\n",
       "        text-align: right;\n",
       "    }\n",
       "</style>\n",
       "<table border=\"1\" class=\"dataframe\">\n",
       "  <thead>\n",
       "    <tr style=\"text-align: right;\">\n",
       "      <th></th>\n",
       "      <th>uid</th>\n",
       "      <th>score</th>\n",
       "      <th>class</th>\n",
       "    </tr>\n",
       "  </thead>\n",
       "  <tbody>\n",
       "    <tr>\n",
       "      <th>0</th>\n",
       "      <td>440ba427-f46a-41d7-bf6d-5b5b1eb3cc26</td>\n",
       "      <td>524.0</td>\n",
       "      <td>STANDARD</td>\n",
       "    </tr>\n",
       "    <tr>\n",
       "      <th>1</th>\n",
       "      <td>8d5f1532-453d-4cce-9ae6-23a06affa479</td>\n",
       "      <td>601.0</td>\n",
       "      <td>STANDARD</td>\n",
       "    </tr>\n",
       "    <tr>\n",
       "      <th>2</th>\n",
       "      <td>59ade0ad-460f-49d6-9b3d-359610bee8dd</td>\n",
       "      <td>507.0</td>\n",
       "      <td>STANDARD</td>\n",
       "    </tr>\n",
       "    <tr>\n",
       "      <th>3</th>\n",
       "      <td>73252b25-3564-4b73-a27e-a08c2a5e882b</td>\n",
       "      <td>519.0</td>\n",
       "      <td>PREMIUM</td>\n",
       "    </tr>\n",
       "    <tr>\n",
       "      <th>4</th>\n",
       "      <td>c85f7e49-61da-42d1-bcf9-ae68c3af7ac8</td>\n",
       "      <td>567.0</td>\n",
       "      <td>PREMIUM</td>\n",
       "    </tr>\n",
       "  </tbody>\n",
       "</table>\n",
       "</div>"
      ],
      "text/plain": [
       "                                    uid  score     class\n",
       "0  440ba427-f46a-41d7-bf6d-5b5b1eb3cc26  524.0  STANDARD\n",
       "1  8d5f1532-453d-4cce-9ae6-23a06affa479  601.0  STANDARD\n",
       "2  59ade0ad-460f-49d6-9b3d-359610bee8dd  507.0  STANDARD\n",
       "3  73252b25-3564-4b73-a27e-a08c2a5e882b  519.0   PREMIUM\n",
       "4  c85f7e49-61da-42d1-bcf9-ae68c3af7ac8  567.0   PREMIUM"
      ]
     },
     "execution_count": 10,
     "metadata": {},
     "output_type": "execute_result"
    }
   ],
   "source": [
    "data.head ()"
   ]
  },
  {
   "cell_type": "code",
   "execution_count": 11,
   "id": "ba50cb66",
   "metadata": {},
   "outputs": [
    {
     "data": {
      "text/plain": [
       "Series([], Name: uid, dtype: int64)"
      ]
     },
     "execution_count": 11,
     "metadata": {},
     "output_type": "execute_result"
    }
   ],
   "source": [
    "#no duplicate IDs\n",
    "\n",
    "duplicated_id = data ['uid'].value_counts ()\n",
    "duplicated_id [duplicated_id > 1]"
   ]
  },
  {
   "cell_type": "code",
   "execution_count": 13,
   "id": "85d214f3",
   "metadata": {},
   "outputs": [
    {
     "data": {
      "text/plain": [
       "STANDARD    10849\n",
       "PREMIUM      5498\n",
       "Name: class, dtype: int64"
      ]
     },
     "execution_count": 13,
     "metadata": {},
     "output_type": "execute_result"
    }
   ],
   "source": [
    "data['class'].value_counts ()"
   ]
  },
  {
   "cell_type": "code",
   "execution_count": 14,
   "id": "d662d1a3",
   "metadata": {},
   "outputs": [
    {
     "data": {
      "text/plain": [
       "<AxesSubplot:ylabel='Frequency'>"
      ]
     },
     "execution_count": 14,
     "metadata": {},
     "output_type": "execute_result"
    },
    {
     "data": {
      "image/png": "[encoded data removed]",
      "text/plain": [
       "<Figure size 432x288 with 1 Axes>"
      ]
     },
     "metadata": {
      "needs_background": "light"
     },
     "output_type": "display_data"
    }
   ],
   "source": [
    "# Corresponds to F_1 in the client information data set\n",
    "\n",
    "data [['score']].plot.hist ()"
   ]
  },
  {
   "cell_type": "code",
   "execution_count": null,
   "id": "eaed16ae",
   "metadata": {},
   "outputs": [],
   "source": []
  }
 ],
 "metadata": {
  "kernelspec": {
   "display_name": "Python 3 (ipykernel)",
   "language": "python",
   "name": "python3"
  },
  "language_info": {
   "codemirror_mode": {
    "name": "ipython",
    "version": 3
   },
   "file_extension": ".py",
   "mimetype": "text/x-python",
   "name": "python",
   "nbconvert_exporter": "python",
   "pygments_lexer": "ipython3",
   "version": "3.9.7"
  }
 },
 "nbformat": 4,
 "nbformat_minor": 5
}
