{
 "cells": [
  {
   "cell_type": "code",
   "execution_count": 1,
   "id": "92d03470",
   "metadata": {},
   "outputs": [],
   "source": [
    "import pandas as pd\n",
    "import matplotlib.pyplot as plt"
   ]
  },
  {
   "cell_type": "markdown",
   "id": "1053abe5",
   "metadata": {},
   "source": [
    "### Default_Data.csv: data describing defaulters and no defaulters (i.e., good/bad customers)."
   ]
  },
  {
   "cell_type": "markdown",
   "id": "83b87cc1",
   "metadata": {},
   "source": [
    " - UID - customer ID\n",
    " - Recordnumber - customer’s loan id\n",
    " - Dval - default value\n",
    " - Dmon - month on books when default was registered"
   ]
  },
  {
   "cell_type": "code",
   "execution_count": 2,
   "id": "2c7e8953",
   "metadata": {},
   "outputs": [],
   "source": [
    "data = pd.read_csv ('../../assignment_datasets/Default_Data.csv')\n",
    "data.columns = pd.Series (data.columns).astype (str).apply (lambda x : x.lower ()).values"
   ]
  },
  {
   "cell_type": "code",
   "execution_count": 3,
   "id": "e7fcc3e4",
   "metadata": {},
   "outputs": [
    {
     "data": {
      "text/plain": [
       "(20000, 4)"
      ]
     },
     "execution_count": 3,
     "metadata": {},
     "output_type": "execute_result"
    }
   ],
   "source": [
    "data.shape"
   ]
  },
  {
   "cell_type": "code",
   "execution_count": 4,
   "id": "4bff114e",
   "metadata": {},
   "outputs": [
    {
     "data": {
      "text/plain": [
       "Index(['uid', 'recordnumber', 'dval', 'dmon'], dtype='object')"
      ]
     },
     "execution_count": 4,
     "metadata": {},
     "output_type": "execute_result"
    }
   ],
   "source": [
    "data.columns"
   ]
  },
  {
   "cell_type": "code",
   "execution_count": 5,
   "id": "4e020044",
   "metadata": {},
   "outputs": [
    {
     "data": {
      "text/html": [
       "<div>\n",
       "<style scoped>\n",
       "    .dataframe tbody tr th:only-of-type {\n",
       "        vertical-align: middle;\n",
       "    }\n",
       "\n",
       "    .dataframe tbody tr th {\n",
       "        vertical-align: top;\n",
       "    }\n",
       "\n",
       "    .dataframe thead th {\n",
       "        text-align: right;\n",
       "    }\n",
       "</style>\n",
       "<table border=\"1\" class=\"dataframe\">\n",
       "  <thead>\n",
       "    <tr style=\"text-align: right;\">\n",
       "      <th></th>\n",
       "      <th>uid</th>\n",
       "      <th>recordnumber</th>\n",
       "      <th>dval</th>\n",
       "      <th>dmon</th>\n",
       "    </tr>\n",
       "  </thead>\n",
       "  <tbody>\n",
       "    <tr>\n",
       "      <th>0</th>\n",
       "      <td>2a08b1c1-504b-4178-8c3f-942aa09c7732</td>\n",
       "      <td>8</td>\n",
       "      <td>70.0</td>\n",
       "      <td>6.0</td>\n",
       "    </tr>\n",
       "    <tr>\n",
       "      <th>1</th>\n",
       "      <td>039b68a8-0953-484f-a14a-0e1e78ef7794</td>\n",
       "      <td>7</td>\n",
       "      <td>999.0</td>\n",
       "      <td>5.0</td>\n",
       "    </tr>\n",
       "    <tr>\n",
       "      <th>2</th>\n",
       "      <td>225b6f92-6c66-45c1-bb82-7ed89aad9619</td>\n",
       "      <td>8</td>\n",
       "      <td>7859.0</td>\n",
       "      <td>27.0</td>\n",
       "    </tr>\n",
       "    <tr>\n",
       "      <th>3</th>\n",
       "      <td>d10af710-591d-458e-b81f-85fb99d9c5a8</td>\n",
       "      <td>9</td>\n",
       "      <td>2739.0</td>\n",
       "      <td>9.0</td>\n",
       "    </tr>\n",
       "    <tr>\n",
       "      <th>4</th>\n",
       "      <td>6457c750-e7c0-4309-9ca3-8dd2ddbabbc0</td>\n",
       "      <td>8</td>\n",
       "      <td>NaN</td>\n",
       "      <td>NaN</td>\n",
       "    </tr>\n",
       "  </tbody>\n",
       "</table>\n",
       "</div>"
      ],
      "text/plain": [
       "                                    uid  recordnumber    dval  dmon\n",
       "0  2a08b1c1-504b-4178-8c3f-942aa09c7732             8    70.0   6.0\n",
       "1  039b68a8-0953-484f-a14a-0e1e78ef7794             7   999.0   5.0\n",
       "2  225b6f92-6c66-45c1-bb82-7ed89aad9619             8  7859.0  27.0\n",
       "3  d10af710-591d-458e-b81f-85fb99d9c5a8             9  2739.0   9.0\n",
       "4  6457c750-e7c0-4309-9ca3-8dd2ddbabbc0             8     NaN   NaN"
      ]
     },
     "execution_count": 5,
     "metadata": {},
     "output_type": "execute_result"
    }
   ],
   "source": [
    "data.head ()"
   ]
  },
  {
   "cell_type": "code",
   "execution_count": 6,
   "id": "95bfd218",
   "metadata": {},
   "outputs": [
    {
     "data": {
      "text/plain": [
       "10000"
      ]
     },
     "execution_count": 6,
     "metadata": {},
     "output_type": "execute_result"
    }
   ],
   "source": [
    "len (data [data.dval.isna ()])"
   ]
  },
  {
   "cell_type": "code",
   "execution_count": 7,
   "id": "f29e44d8",
   "metadata": {},
   "outputs": [
    {
     "data": {
      "text/plain": [
       "10000"
      ]
     },
     "execution_count": 7,
     "metadata": {},
     "output_type": "execute_result"
    }
   ],
   "source": [
    "len (data [data.dmon.isna ()])"
   ]
  },
  {
   "cell_type": "code",
   "execution_count": 8,
   "id": "24f0f1b6",
   "metadata": {},
   "outputs": [
    {
     "data": {
      "text/plain": [
       "(16347,)"
      ]
     },
     "execution_count": 8,
     "metadata": {},
     "output_type": "execute_result"
    }
   ],
   "source": [
    "# Bene, everyone is represented but not everyone defaults\n",
    "# We can see that 50:50 ratio spoken of in the description\n",
    "\n",
    "data.uid.drop_duplicates ().shape"
   ]
  },
  {
   "cell_type": "code",
   "execution_count": 9,
   "id": "34ba2c34",
   "metadata": {},
   "outputs": [
    {
     "name": "stderr",
     "output_type": "stream",
     "text": [
      "/var/folders/4t/nm_5yvhx1zzgv15xvftc30s40000gn/T/ipykernel_91848/846288136.py:4: SettingWithCopyWarning: \n",
      "A value is trying to be set on a copy of a slice from a DataFrame.\n",
      "Try using .loc[row_indexer,col_indexer] = value instead\n",
      "\n",
      "See the caveats in the documentation: https://pandas.pydata.org/pandas-docs/stable/user_guide/indexing.html#returning-a-view-versus-a-copy\n",
      "  default ['number_of_defaults'] = default.dval.apply (lambda x : 1 if x > 0 else 0)\n"
     ]
    }
   ],
   "source": [
    "# For now, a simple yes/no on default data for any loan\n",
    "\n",
    "default = data [['uid', 'dval']]\n",
    "default ['number_of_defaults'] = default.dval.apply (lambda x : 1 if x > 0 else 0)\n",
    "default = default [['uid', 'number_of_defaults']]\n",
    "\n",
    "default = default.groupby ('uid').number_of_defaults.sum ().reset_index ()"
   ]
  },
  {
   "cell_type": "code",
   "execution_count": 10,
   "id": "3bc979a5",
   "metadata": {},
   "outputs": [
    {
     "ename": "AttributeError",
     "evalue": "'DataFrame' object has no attribute 'default'",
     "output_type": "error",
     "traceback": [
      "\u001b[0;31m---------------------------------------------------------------------------\u001b[0m",
      "\u001b[0;31mAttributeError\u001b[0m                            Traceback (most recent call last)",
      "\u001b[0;32m/var/folders/4t/nm_5yvhx1zzgv15xvftc30s40000gn/T/ipykernel_91848/1204014915.py\u001b[0m in \u001b[0;36m<module>\u001b[0;34m\u001b[0m\n\u001b[1;32m      1\u001b[0m \u001b[0;31m# A chap defaulted 8 times . . . o.O\u001b[0m\u001b[0;34m\u001b[0m\u001b[0;34m\u001b[0m\u001b[0m\n\u001b[1;32m      2\u001b[0m \u001b[0;34m\u001b[0m\u001b[0m\n\u001b[0;32m----> 3\u001b[0;31m \u001b[0mdefault\u001b[0m\u001b[0;34m.\u001b[0m\u001b[0mdefault\u001b[0m\u001b[0;34m.\u001b[0m\u001b[0mmax\u001b[0m \u001b[0;34m(\u001b[0m\u001b[0;34m)\u001b[0m\u001b[0;34m\u001b[0m\u001b[0;34m\u001b[0m\u001b[0m\n\u001b[0m",
      "\u001b[0;32m~/opt/anaconda3/lib/python3.9/site-packages/pandas/core/generic.py\u001b[0m in \u001b[0;36m__getattr__\u001b[0;34m(self, name)\u001b[0m\n\u001b[1;32m   5485\u001b[0m         ):\n\u001b[1;32m   5486\u001b[0m             \u001b[0;32mreturn\u001b[0m \u001b[0mself\u001b[0m\u001b[0;34m[\u001b[0m\u001b[0mname\u001b[0m\u001b[0;34m]\u001b[0m\u001b[0;34m\u001b[0m\u001b[0;34m\u001b[0m\u001b[0m\n\u001b[0;32m-> 5487\u001b[0;31m         \u001b[0;32mreturn\u001b[0m \u001b[0mobject\u001b[0m\u001b[0;34m.\u001b[0m\u001b[0m__getattribute__\u001b[0m\u001b[0;34m(\u001b[0m\u001b[0mself\u001b[0m\u001b[0;34m,\u001b[0m \u001b[0mname\u001b[0m\u001b[0;34m)\u001b[0m\u001b[0;34m\u001b[0m\u001b[0;34m\u001b[0m\u001b[0m\n\u001b[0m\u001b[1;32m   5488\u001b[0m \u001b[0;34m\u001b[0m\u001b[0m\n\u001b[1;32m   5489\u001b[0m     \u001b[0;32mdef\u001b[0m \u001b[0m__setattr__\u001b[0m\u001b[0;34m(\u001b[0m\u001b[0mself\u001b[0m\u001b[0;34m,\u001b[0m \u001b[0mname\u001b[0m\u001b[0;34m:\u001b[0m \u001b[0mstr\u001b[0m\u001b[0;34m,\u001b[0m \u001b[0mvalue\u001b[0m\u001b[0;34m)\u001b[0m \u001b[0;34m->\u001b[0m \u001b[0;32mNone\u001b[0m\u001b[0;34m:\u001b[0m\u001b[0;34m\u001b[0m\u001b[0;34m\u001b[0m\u001b[0m\n",
      "\u001b[0;31mAttributeError\u001b[0m: 'DataFrame' object has no attribute 'default'"
     ]
    }
   ],
   "source": [
    "# A chap defaulted 8 times . . . o.O\n",
    "\n",
    "default.default.max ()"
   ]
  },
  {
   "cell_type": "code",
   "execution_count": null,
   "id": "ced38b1b",
   "metadata": {},
   "outputs": [],
   "source": [
    "default ['default'] = default.number_of_defaults.apply (lambda x : 1 if x > 0 else 0)"
   ]
  },
  {
   "cell_type": "code",
   "execution_count": null,
   "id": "428ef91c",
   "metadata": {},
   "outputs": [],
   "source": [
    "default.to_csv ('../data/loan_default_indicator.csv', index = False)"
   ]
  }
 ],
 "metadata": {
  "kernelspec": {
   "display_name": "Python 3 (ipykernel)",
   "language": "python",
   "name": "python3"
  },
  "language_info": {
   "codemirror_mode": {
    "name": "ipython",
    "version": 3
   },
   "file_extension": ".py",
   "mimetype": "text/x-python",
   "name": "python",
   "nbconvert_exporter": "python",
   "pygments_lexer": "ipython3",
   "version": "3.9.7"
  }
 },
 "nbformat": 4,
 "nbformat_minor": 5
}
