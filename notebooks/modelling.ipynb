{
 "cells": [
  {
   "cell_type": "code",
   "execution_count": 331,
   "id": "f0865863",
   "metadata": {},
   "outputs": [],
   "source": [
    "import pandas as pd\n",
    "import numpy as np\n",
    "from sklearn.linear_model import LogisticRegression\n",
    "from sklearn.ensemble import GradientBoostingClassifier, RandomForestClassifier\n",
    "from sklearn.model_selection import train_test_split\n",
    "from sklearn import metrics\n",
    "import math\n",
    "from sklearn.model_selection import GridSearchCV\n",
    "from sklearn.pipeline import Pipeline\n",
    "import xgboost\n",
    "\n",
    "import statsmodels.api as sm"
   ]
  },
  {
   "cell_type": "code",
   "execution_count": 216,
   "id": "e8ec74ff",
   "metadata": {},
   "outputs": [],
   "source": [
    "data = pd.read_csv ('../data/data.csv')"
   ]
  },
  {
   "cell_type": "code",
   "execution_count": 189,
   "id": "e994a056",
   "metadata": {},
   "outputs": [],
   "source": [
    "objects = [x for x in data.columns.values if '_o_' in x]"
   ]
  },
  {
   "cell_type": "code",
   "execution_count": 190,
   "id": "d2becf15",
   "metadata": {},
   "outputs": [],
   "source": [
    "y = data ['default'].values"
   ]
  },
  {
   "cell_type": "code",
   "execution_count": 191,
   "id": "5ad13656",
   "metadata": {},
   "outputs": [],
   "source": [
    "X = np.asarray (data.set_index ('uid').drop ('default', axis = 1))"
   ]
  },
  {
   "cell_type": "code",
   "execution_count": 291,
   "id": "6086faa9",
   "metadata": {},
   "outputs": [],
   "source": [
    "X_no_object = np.asarray (data.set_index ('uid').drop (['default'] +\n",
    "                                                       objects, axis = 1))"
   ]
  },
  {
   "cell_type": "code",
   "execution_count": 292,
   "id": "4ce90b43",
   "metadata": {},
   "outputs": [],
   "source": [
    "X_train, X_test, y_train, y_test = train_test_split(X, \n",
    "                                                    y, \n",
    "                                                    test_size=0.2, \n",
    "                                                    random_state=0)\n",
    "\n",
    "X_no_train, X_no_test, y_no_train, y_no_test = train_test_split(X_no_object, \n",
    "                                                    y, \n",
    "                                                    test_size=0.2, \n",
    "                                                    random_state=0)"
   ]
  },
  {
   "cell_type": "markdown",
   "id": "53a5d1e2",
   "metadata": {},
   "source": [
    "# Logistic Regression (with statsmodels) for score"
   ]
  },
  {
   "cell_type": "code",
   "execution_count": 323,
   "id": "a451bd32",
   "metadata": {},
   "outputs": [
    {
     "name": "stdout",
     "output_type": "stream",
     "text": [
      "Optimization terminated successfully.\n",
      "         Current function value: 0.467339\n",
      "         Iterations 6\n"
     ]
    }
   ],
   "source": [
    "lr = sm.Logit (endog = y, exog = X_no_object [:, 0]).fit ()"
   ]
  },
  {
   "cell_type": "code",
   "execution_count": 324,
   "id": "eb2d2802",
   "metadata": {},
   "outputs": [
    {
     "name": "stdout",
     "output_type": "stream",
     "text": [
      "                           Logit Regression Results                           \n",
      "==============================================================================\n",
      "Dep. Variable:                      y   No. Observations:                11956\n",
      "Model:                          Logit   Df Residuals:                    11955\n",
      "Method:                           MLE   Df Model:                            0\n",
      "Date:                Sun, 29 May 2022   Pseudo R-squ.:                  0.2803\n",
      "Time:                        15:17:03   Log-Likelihood:                -5587.5\n",
      "converged:                       True   LL-Null:                       -7763.2\n",
      "Covariance Type:            nonrobust   LLR p-value:                       nan\n",
      "==============================================================================\n",
      "                 coef    std err          z      P>|z|      [0.025      0.975]\n",
      "------------------------------------------------------------------------------\n",
      "x1            -1.7333      0.030    -57.626      0.000      -1.792      -1.674\n",
      "==============================================================================\n"
     ]
    }
   ],
   "source": [
    "print (lr.summary ())"
   ]
  },
  {
   "cell_type": "markdown",
   "id": "b8112493",
   "metadata": {},
   "source": [
    "# Gradient Boosting"
   ]
  },
  {
   "cell_type": "code",
   "execution_count": null,
   "id": "48c5b613",
   "metadata": {},
   "outputs": [],
   "source": [
    "params = [{'knn__n_neighbors': [3, 5, 7, 9],\n",
    "         'knn__weights': ['uniform', 'distance'],\n",
    "         'knn__leaf_size': [15, 20]}]"
   ]
  },
  {
   "cell_type": "code",
   "execution_count": 320,
   "id": "b9d68c46",
   "metadata": {},
   "outputs": [
    {
     "data": {
      "text/plain": [
       "{'gb__learning_rate': 0.1, 'gb__max_depth': 2}"
      ]
     },
     "execution_count": 320,
     "metadata": {},
     "output_type": "execute_result"
    }
   ],
   "source": [
    "gb_pipe = Pipeline([('gb', GradientBoostingClassifier())])\n",
    "\n",
    "params = [{'gb__learning_rate': [0.05, 0.1, 0.2],\n",
    "         'gb__max_depth': [1, 2]}]\n",
    "\n",
    "gs_gb = GridSearchCV(gb_pipe,\n",
    "                      param_grid=params,\n",
    "                      scoring='f1',\n",
    "                      cv=5)\n",
    "gs_gb.fit(X_train, y_train)\n",
    "gs_gb.best_params_"
   ]
  },
  {
   "cell_type": "code",
   "execution_count": null,
   "id": "d2771db1",
   "metadata": {},
   "outputs": [],
   "source": [
    "predictions = gr.predict(X_test)\n",
    "\n",
    "cm = metrics.confusion_matrix(y_test, predictions)\n",
    "print(cm)"
   ]
  },
  {
   "cell_type": "markdown",
   "id": "e9ff37a7",
   "metadata": {},
   "source": [
    "# Random Forest"
   ]
  },
  {
   "cell_type": "code",
   "execution_count": 329,
   "id": "c8646c64",
   "metadata": {},
   "outputs": [
    {
     "data": {
      "text/plain": [
       "{'rf__min_samples_leaf': 2, 'rf__n_estimators': 500}"
      ]
     },
     "execution_count": 329,
     "metadata": {},
     "output_type": "execute_result"
    }
   ],
   "source": [
    "rf_pipe = Pipeline([('rf', RandomForestClassifier())])\n",
    "\n",
    "params = [{'rf__n_estimators': [500, 1000],\n",
    "          'rf__min_samples_leaf' : [2, 0.01, 0.05]}]\n",
    "\n",
    "gs_rf = GridSearchCV(rf_pipe,\n",
    "                     param_grid=params,\n",
    "                      scoring='f1',\n",
    "                      cv=5)\n",
    "\n",
    "gs_rf.fit(X_train, y_train)\n",
    "gs_rf.best_params_"
   ]
  },
  {
   "cell_type": "code",
   "execution_count": 67,
   "id": "70a893b9",
   "metadata": {},
   "outputs": [
    {
     "data": {
      "text/plain": [
       "0.9285117056856187"
      ]
     },
     "execution_count": 67,
     "metadata": {},
     "output_type": "execute_result"
    }
   ],
   "source": [
    "rf = (RandomForestClassifier(n_estimators = 1000, max_depth=30, random_state=0)\n",
    "      .fit(X_train, y_train))\n",
    "\n",
    "rf.score(X_test, y_test)"
   ]
  },
  {
   "cell_type": "code",
   "execution_count": 68,
   "id": "d62f5851",
   "metadata": {},
   "outputs": [
    {
     "name": "stdout",
     "output_type": "stream",
     "text": [
      "[[1439  107]\n",
      " [  64  782]]\n"
     ]
    }
   ],
   "source": [
    "predictions = rf.predict(X_test)\n",
    "\n",
    "cm = metrics.confusion_matrix(y_test, predictions)\n",
    "print(cm)"
   ]
  },
  {
   "cell_type": "markdown",
   "id": "705a2e1c",
   "metadata": {},
   "source": [
    "# XGBoost"
   ]
  },
  {
   "cell_type": "code",
   "execution_count": null,
   "id": "ebcee03c",
   "metadata": {},
   "outputs": [],
   "source": [
    "xg_pipe = Pipeline([('xg', xgboost.XGBClassifier())])\n",
    "\n",
    "params = [{\n",
    "    'xg__max_depth': [2, 10],\n",
    "    'xg__n_estimators': [50, 100, 200],\n",
    "    'xg__learning_rate': [0.1, 0.01]\n",
    "}]\n",
    "\n",
    "gs_xg = GridSearchCV(xg_pipe,\n",
    "                     param_grid=params,\n",
    "                      scoring='f1',\n",
    "                      cv=5)\n",
    "\n",
    "gs_rf.fit(X_train, y_train)\n",
    "gs_rf.best_params_"
   ]
  },
  {
   "cell_type": "code",
   "execution_count": null,
   "id": "c2bdff5a",
   "metadata": {},
   "outputs": [],
   "source": []
  }
 ],
 "metadata": {
  "kernelspec": {
   "display_name": "Python 3 (ipykernel)",
   "language": "python",
   "name": "python3"
  },
  "language_info": {
   "codemirror_mode": {
    "name": "ipython",
    "version": 3
   },
   "file_extension": ".py",
   "mimetype": "text/x-python",
   "name": "python",
   "nbconvert_exporter": "python",
   "pygments_lexer": "ipython3",
   "version": "3.9.7"
  }
 },
 "nbformat": 4,
 "nbformat_minor": 5
}
