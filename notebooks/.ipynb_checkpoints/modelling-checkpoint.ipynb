{
 "cells": [
  {
   "cell_type": "code",
   "execution_count": 373,
   "id": "756fcd82",
   "metadata": {},
   "outputs": [],
   "source": [
    "import pandas as pd\n",
    "import numpy as np\n",
    "from sklearn.linear_model import LogisticRegression\n",
    "from sklearn.ensemble import GradientBoostingClassifier, RandomForestClassifier\n",
    "from sklearn.model_selection import train_test_split\n",
    "from sklearn import metrics\n",
    "import math\n",
    "from sklearn.model_selection import GridSearchCV\n",
    "from sklearn.pipeline import Pipeline\n",
    "import xgboost\n",
    "import pickle\n",
    "\n",
    "import statsmodels.api as sm"
   ]
  },
  {
   "cell_type": "code",
   "execution_count": 365,
   "id": "0086c5b8",
   "metadata": {},
   "outputs": [],
   "source": [
    "data = pd.read_csv ('../data/data.csv')"
   ]
  },
  {
   "cell_type": "code",
   "execution_count": 366,
   "id": "9dca7291",
   "metadata": {},
   "outputs": [],
   "source": [
    "y = data ['default'].values"
   ]
  },
  {
   "cell_type": "code",
   "execution_count": 367,
   "id": "4a07494d",
   "metadata": {},
   "outputs": [],
   "source": [
    "X = np.asarray (data.set_index ('uid').drop ('default', axis = 1))"
   ]
  },
  {
   "cell_type": "code",
   "execution_count": 369,
   "id": "9c14b1a7",
   "metadata": {},
   "outputs": [],
   "source": [
    "X_train, X_test, y_train, y_test = train_test_split(X, \n",
    "                                                    y, \n",
    "                                                    test_size=0.2, \n",
    "                                                    random_state=0)"
   ]
  },
  {
   "cell_type": "markdown",
   "id": "02c537ee",
   "metadata": {},
   "source": [
    "# Logistic Regression (with statsmodels) for score"
   ]
  },
  {
   "cell_type": "code",
   "execution_count": 370,
   "id": "7b257f7b",
   "metadata": {},
   "outputs": [],
   "source": [
    "# This is to interpret the effectiveness of the credit score\n",
    "# I use the full data set—there is no performance to be evaluated, it's about relationships"
   ]
  },
  {
   "cell_type": "code",
   "execution_count": 368,
   "id": "ac5ea96d",
   "metadata": {},
   "outputs": [],
   "source": [
    "f_1 = np.asarray (data['f_1'])"
   ]
  },
  {
   "cell_type": "code",
   "execution_count": 371,
   "id": "6a50bcd7",
   "metadata": {},
   "outputs": [
    {
     "name": "stdout",
     "output_type": "stream",
     "text": [
      "Optimization terminated successfully.\n",
      "         Current function value: 0.467339\n",
      "         Iterations 6\n"
     ]
    }
   ],
   "source": [
    "lr = sm.Logit (endog = y, exog = f_1).fit ()"
   ]
  },
  {
   "cell_type": "code",
   "execution_count": 372,
   "id": "d8bb05c0",
   "metadata": {},
   "outputs": [
    {
     "name": "stdout",
     "output_type": "stream",
     "text": [
      "                           Logit Regression Results                           \n",
      "==============================================================================\n",
      "Dep. Variable:                      y   No. Observations:                11956\n",
      "Model:                          Logit   Df Residuals:                    11955\n",
      "Method:                           MLE   Df Model:                            0\n",
      "Date:                Sun, 29 May 2022   Pseudo R-squ.:                  0.2803\n",
      "Time:                        18:50:52   Log-Likelihood:                -5587.5\n",
      "converged:                       True   LL-Null:                       -7763.2\n",
      "Covariance Type:            nonrobust   LLR p-value:                       nan\n",
      "==============================================================================\n",
      "                 coef    std err          z      P>|z|      [0.025      0.975]\n",
      "------------------------------------------------------------------------------\n",
      "x1            -1.7333      0.030    -57.626      0.000      -1.792      -1.674\n",
      "==============================================================================\n"
     ]
    }
   ],
   "source": [
    "print (lr.summary ())"
   ]
  },
  {
   "cell_type": "markdown",
   "id": "2321d868",
   "metadata": {},
   "source": [
    "# Gradient Boosting"
   ]
  },
  {
   "cell_type": "code",
   "execution_count": 337,
   "id": "84e8ad29",
   "metadata": {},
   "outputs": [
    {
     "data": {
      "text/plain": [
       "{'gb__learning_rate': 0.01, 'gb__max_depth': 3, 'gb__n_estimators': 1000}"
      ]
     },
     "execution_count": 337,
     "metadata": {},
     "output_type": "execute_result"
    }
   ],
   "source": [
    "gb_pipe = Pipeline([('gb', GradientBoostingClassifier())])\n",
    "\n",
    "params = [{'gb__n_estimators': [1000, 2000],\n",
    "           'gb__learning_rate': [0.01, 0.1, 0.2],\n",
    "         'gb__max_depth': [1, 2, 3]}]\n",
    "\n",
    "gs_gb = GridSearchCV(gb_pipe,\n",
    "                      param_grid=params,\n",
    "                      scoring='f1',\n",
    "                      cv=5)\n",
    "gs_gb.fit(X_train, y_train)\n",
    "gs_gb.best_params_"
   ]
  },
  {
   "cell_type": "code",
   "execution_count": 361,
   "id": "b0826909",
   "metadata": {},
   "outputs": [
    {
     "data": {
      "text/plain": [
       "0.9360367892976589"
      ]
     },
     "execution_count": 361,
     "metadata": {},
     "output_type": "execute_result"
    }
   ],
   "source": [
    "gb = (GradientBoostingClassifier(n_estimators = 1000, max_depth=3, learning_rate = 0.01,\n",
    "                                 random_state=0)\n",
    "      .fit(X_train, y_train))\n",
    "\n",
    "gb.score(X_test, y_test)"
   ]
  },
  {
   "cell_type": "code",
   "execution_count": 362,
   "id": "46214807",
   "metadata": {},
   "outputs": [
    {
     "data": {
      "text/plain": [
       "array([[1439,  107],\n",
       "       [  46,  800]])"
      ]
     },
     "execution_count": 362,
     "metadata": {},
     "output_type": "execute_result"
    }
   ],
   "source": [
    "predictions = gb.predict(X_test)\n",
    "\n",
    "metrics.confusion_matrix(y_test, predictions)"
   ]
  },
  {
   "cell_type": "code",
   "execution_count": 363,
   "id": "d587c235",
   "metadata": {},
   "outputs": [
    {
     "data": {
      "text/plain": [
       "0.9127210496292071"
      ]
     },
     "execution_count": 363,
     "metadata": {},
     "output_type": "execute_result"
    }
   ],
   "source": [
    "metrics.f1_score (y_test, predictions)"
   ]
  },
  {
   "cell_type": "markdown",
   "id": "c8a1eb27",
   "metadata": {},
   "source": [
    "# Random Forest"
   ]
  },
  {
   "cell_type": "code",
   "execution_count": 329,
   "id": "32f43423",
   "metadata": {},
   "outputs": [
    {
     "data": {
      "text/plain": [
       "{'rf__min_samples_leaf': 2, 'rf__n_estimators': 500}"
      ]
     },
     "execution_count": 329,
     "metadata": {},
     "output_type": "execute_result"
    }
   ],
   "source": [
    "rf_pipe = Pipeline([('rf', RandomForestClassifier())])\n",
    "\n",
    "params = [{'rf__n_estimators': [500, 1000],\n",
    "          'rf__min_samples_leaf' : [2, 0.01, 0.05]}]\n",
    "\n",
    "gs_rf = GridSearchCV(rf_pipe,\n",
    "                     param_grid=params,\n",
    "                      scoring='f1',\n",
    "                      cv=5)\n",
    "\n",
    "gs_rf.fit(X_train, y_train)\n",
    "gs_rf.best_params_"
   ]
  },
  {
   "cell_type": "code",
   "execution_count": 339,
   "id": "bae4a78a",
   "metadata": {},
   "outputs": [
    {
     "data": {
      "text/plain": [
       "0.927675585284281"
      ]
     },
     "execution_count": 339,
     "metadata": {},
     "output_type": "execute_result"
    }
   ],
   "source": [
    "rf = (RandomForestClassifier(n_estimators = 1000,, random_state=0)\n",
    "      .fit(X_train, y_train))\n",
    "\n",
    "rf.score(X_test, y_test)"
   ]
  },
  {
   "cell_type": "code",
   "execution_count": 354,
   "id": "2aee17dd",
   "metadata": {},
   "outputs": [
    {
     "data": {
      "text/plain": [
       "array([[1438,  108],\n",
       "       [  65,  781]])"
      ]
     },
     "execution_count": 354,
     "metadata": {},
     "output_type": "execute_result"
    }
   ],
   "source": [
    "predictions = rf.predict(X_test)\n",
    "\n",
    "metrics.confusion_matrix(y_test, predictions)"
   ]
  },
  {
   "cell_type": "code",
   "execution_count": 355,
   "id": "4b51f8cf",
   "metadata": {},
   "outputs": [
    {
     "data": {
      "text/plain": [
       "0.9002881844380403"
      ]
     },
     "execution_count": 355,
     "metadata": {},
     "output_type": "execute_result"
    }
   ],
   "source": [
    "metrics.f1_score (y_test, predictions)"
   ]
  },
  {
   "cell_type": "markdown",
   "id": "c25a7988",
   "metadata": {},
   "source": [
    "# XGBoost"
   ]
  },
  {
   "cell_type": "code",
   "execution_count": 338,
   "id": "4f4daec7",
   "metadata": {},
   "outputs": [
    {
     "data": {
      "text/plain": [
       "{'xg__learning_rate': 0.05, 'xg__max_depth': 5, 'xg__n_estimators': 200}"
      ]
     },
     "execution_count": 338,
     "metadata": {},
     "output_type": "execute_result"
    }
   ],
   "source": [
    "xg_pipe = Pipeline([('xg', xgboost.XGBClassifier())])\n",
    "\n",
    "params = [{\n",
    "    'xg__max_depth': [2, 5],\n",
    "    'xg__n_estimators': [200, 500, 1000],\n",
    "    'xg__learning_rate': [0.1, 0.05]\n",
    "}]\n",
    "\n",
    "gs_xg = GridSearchCV(xg_pipe,\n",
    "                     param_grid=params,\n",
    "                      scoring='f1',\n",
    "                      cv=5)\n",
    "\n",
    "gs_xg.fit(X_train, y_train)\n",
    "gs_xg.best_params_"
   ]
  },
  {
   "cell_type": "code",
   "execution_count": 344,
   "id": "a605227a",
   "metadata": {},
   "outputs": [
    {
     "data": {
      "text/plain": [
       "0.9364548494983278"
      ]
     },
     "execution_count": 344,
     "metadata": {},
     "output_type": "execute_result"
    }
   ],
   "source": [
    "xg = (xgboost.XGBClassifier(n_estimators = 200, learning_rate = 0.05, \n",
    "                            max_depth = 5,\n",
    "                            random_state=0)\n",
    "      .fit(X_train, y_train))\n",
    "\n",
    "xg.score(X_test, y_test, )"
   ]
  },
  {
   "cell_type": "code",
   "execution_count": 351,
   "id": "a0e561e3",
   "metadata": {},
   "outputs": [
    {
     "data": {
      "text/plain": [
       "array([[1438,  108],\n",
       "       [  44,  802]])"
      ]
     },
     "execution_count": 351,
     "metadata": {},
     "output_type": "execute_result"
    }
   ],
   "source": [
    "predictions = xg.predict(X_test)\n",
    "\n",
    "metrics.confusion_matrix(y_test, predictions)"
   ]
  },
  {
   "cell_type": "code",
   "execution_count": 353,
   "id": "f2158a80",
   "metadata": {},
   "outputs": [
    {
     "data": {
      "text/plain": [
       "0.9134396355353075"
      ]
     },
     "execution_count": 353,
     "metadata": {},
     "output_type": "execute_result"
    }
   ],
   "source": [
    "metrics.f1_score (y_test, predictions)"
   ]
  },
  {
   "cell_type": "markdown",
   "id": "74bd2aba",
   "metadata": {},
   "source": [
    "## Final model trained using the full data set"
   ]
  },
  {
   "cell_type": "code",
   "execution_count": 374,
   "id": "6798b8a1",
   "metadata": {},
   "outputs": [],
   "source": [
    "model = (xgboost.XGBClassifier(n_estimators = 200, learning_rate = 0.05, \n",
    "                            max_depth = 5,\n",
    "                            random_state=0)\n",
    "      .fit(X, y))"
   ]
  },
  {
   "cell_type": "code",
   "execution_count": 375,
   "id": "e054efe6",
   "metadata": {},
   "outputs": [],
   "source": [
    "pickle.dump(model, open('../artifacts/model.sav', 'wb'))"
   ]
  }
 ],
 "metadata": {
  "kernelspec": {
   "display_name": "Python 3 (ipykernel)",
   "language": "python",
   "name": "python3"
  },
  "language_info": {
   "codemirror_mode": {
    "name": "ipython",
    "version": 3
   },
   "file_extension": ".py",
   "mimetype": "text/x-python",
   "name": "python",
   "nbconvert_exporter": "python",
   "pygments_lexer": "ipython3",
   "version": "3.9.7"
  }
 },
 "nbformat": 4,
 "nbformat_minor": 5
}
