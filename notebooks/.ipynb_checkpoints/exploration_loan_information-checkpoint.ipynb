{
 "cells": [
  {
   "cell_type": "code",
   "execution_count": 1,
   "id": "92d03470",
   "metadata": {},
   "outputs": [],
   "source": [
    "import pandas as pd\n",
    "import matplotlib.pyplot as plt"
   ]
  },
  {
   "cell_type": "markdown",
   "id": "6e843cc7",
   "metadata": {},
   "source": [
    "### Loan_Information.csv: data providing information related to loans."
   ]
  },
  {
   "cell_type": "markdown",
   "id": "89b2703b",
   "metadata": {},
   "source": [
    " - UID - customer ID\n",
    " - Recordnumber - customer’s loan id\n",
    " - Openbalance - loan opening balance\n",
    " - Accstartdate - account opening date\n",
    " - First_month - month when customer first logged into online servicing\n",
    " - Last_month - month when customer last logged into online servicing\n",
    " - Repayperiod - original loan term\n",
    " - Searchdate - date when customer data was uploaded to the database"
   ]
  },
  {
   "cell_type": "code",
   "execution_count": 2,
   "id": "2c7e8953",
   "metadata": {},
   "outputs": [],
   "source": [
    "data = pd.read_csv ('../../assignment_datasets/Loan_Information.csv')"
   ]
  },
  {
   "cell_type": "code",
   "execution_count": 3,
   "id": "4bff114e",
   "metadata": {},
   "outputs": [
    {
     "data": {
      "text/plain": [
       "Index(['UID', 'RECORDNUMBER', 'OPENBALANCE', 'ACCSTARTDATE', 'FIRST_MONTH',\n",
       "       'LAST_MONTH', 'REPAYPERIOD', 'SEARCHDATE'],\n",
       "      dtype='object')"
      ]
     },
     "execution_count": 3,
     "metadata": {},
     "output_type": "execute_result"
    }
   ],
   "source": [
    "data.columns"
   ]
  },
  {
   "cell_type": "code",
   "execution_count": 4,
   "id": "4e020044",
   "metadata": {},
   "outputs": [
    {
     "data": {
      "text/html": [
       "<div>\n",
       "<style scoped>\n",
       "    .dataframe tbody tr th:only-of-type {\n",
       "        vertical-align: middle;\n",
       "    }\n",
       "\n",
       "    .dataframe tbody tr th {\n",
       "        vertical-align: top;\n",
       "    }\n",
       "\n",
       "    .dataframe thead th {\n",
       "        text-align: right;\n",
       "    }\n",
       "</style>\n",
       "<table border=\"1\" class=\"dataframe\">\n",
       "  <thead>\n",
       "    <tr style=\"text-align: right;\">\n",
       "      <th></th>\n",
       "      <th>UID</th>\n",
       "      <th>RECORDNUMBER</th>\n",
       "      <th>OPENBALANCE</th>\n",
       "      <th>ACCSTARTDATE</th>\n",
       "      <th>FIRST_MONTH</th>\n",
       "      <th>LAST_MONTH</th>\n",
       "      <th>REPAYPERIOD</th>\n",
       "      <th>SEARCHDATE</th>\n",
       "    </tr>\n",
       "  </thead>\n",
       "  <tbody>\n",
       "    <tr>\n",
       "      <th>0</th>\n",
       "      <td>784c964e-d3e1-4dd3-af6c-4288c4b37d27</td>\n",
       "      <td>1</td>\n",
       "      <td>600.0</td>\n",
       "      <td>2014-09-29</td>\n",
       "      <td>2014-10-01</td>\n",
       "      <td>2016-07-01</td>\n",
       "      <td>24.0</td>\n",
       "      <td>20181011</td>\n",
       "    </tr>\n",
       "    <tr>\n",
       "      <th>1</th>\n",
       "      <td>fc30d99d-106a-44bf-bc33-9a95f0d2d258</td>\n",
       "      <td>6</td>\n",
       "      <td>500.0</td>\n",
       "      <td>2014-01-24</td>\n",
       "      <td>2014-02-01</td>\n",
       "      <td>2014-07-01</td>\n",
       "      <td>6.0</td>\n",
       "      <td>20180524</td>\n",
       "    </tr>\n",
       "    <tr>\n",
       "      <th>2</th>\n",
       "      <td>fc30d99d-106a-44bf-bc33-9a95f0d2d258</td>\n",
       "      <td>9</td>\n",
       "      <td>1149.0</td>\n",
       "      <td>2013-10-18</td>\n",
       "      <td>2013-11-01</td>\n",
       "      <td>2018-05-01</td>\n",
       "      <td>NaN</td>\n",
       "      <td>20180524</td>\n",
       "    </tr>\n",
       "    <tr>\n",
       "      <th>3</th>\n",
       "      <td>fc30d99d-106a-44bf-bc33-9a95f0d2d258</td>\n",
       "      <td>14</td>\n",
       "      <td>446.0</td>\n",
       "      <td>2015-07-01</td>\n",
       "      <td>2015-08-01</td>\n",
       "      <td>2015-12-01</td>\n",
       "      <td>5.0</td>\n",
       "      <td>20180524</td>\n",
       "    </tr>\n",
       "    <tr>\n",
       "      <th>4</th>\n",
       "      <td>89761744-b42f-43cd-bd3c-5c363c44671a</td>\n",
       "      <td>1</td>\n",
       "      <td>1492.0</td>\n",
       "      <td>2014-10-06</td>\n",
       "      <td>2014-11-01</td>\n",
       "      <td>2015-11-01</td>\n",
       "      <td>13.0</td>\n",
       "      <td>20190924</td>\n",
       "    </tr>\n",
       "  </tbody>\n",
       "</table>\n",
       "</div>"
      ],
      "text/plain": [
       "                                    UID  RECORDNUMBER  OPENBALANCE  \\\n",
       "0  784c964e-d3e1-4dd3-af6c-4288c4b37d27             1        600.0   \n",
       "1  fc30d99d-106a-44bf-bc33-9a95f0d2d258             6        500.0   \n",
       "2  fc30d99d-106a-44bf-bc33-9a95f0d2d258             9       1149.0   \n",
       "3  fc30d99d-106a-44bf-bc33-9a95f0d2d258            14        446.0   \n",
       "4  89761744-b42f-43cd-bd3c-5c363c44671a             1       1492.0   \n",
       "\n",
       "  ACCSTARTDATE FIRST_MONTH  LAST_MONTH  REPAYPERIOD  SEARCHDATE  \n",
       "0   2014-09-29  2014-10-01  2016-07-01         24.0    20181011  \n",
       "1   2014-01-24  2014-02-01  2014-07-01          6.0    20180524  \n",
       "2   2013-10-18  2013-11-01  2018-05-01          NaN    20180524  \n",
       "3   2015-07-01  2015-08-01  2015-12-01          5.0    20180524  \n",
       "4   2014-10-06  2014-11-01  2015-11-01         13.0    20190924  "
      ]
     },
     "execution_count": 4,
     "metadata": {},
     "output_type": "execute_result"
    }
   ],
   "source": [
    "data.head ()"
   ]
  },
  {
   "cell_type": "code",
   "execution_count": 7,
   "id": "805a07b3",
   "metadata": {},
   "outputs": [
    {
     "data": {
      "text/plain": [
       "3770221c-d4a7-4491-b29d-023000825a48    14\n",
       "ed90d6fc-5c8d-4ba2-96e6-de1cc700d930    14\n",
       "0964fa82-d6e7-471b-bb7e-2e73c4e2ca6a    14\n",
       "22f86e77-2a0d-4615-bbe4-d90bfb4c2c7b    14\n",
       "351f06a0-807e-4383-b2f3-4f90b9894ff6    14\n",
       "                                        ..\n",
       "567cc10e-b44a-471e-8d16-053f2fe2be9d     2\n",
       "5b9c9540-f818-4c86-8271-1d4d68a5e48d     2\n",
       "0cd74003-dbc7-4606-abf1-c5dac11085f2     2\n",
       "13c31b61-d9ba-416c-9588-db8fffa1855e     2\n",
       "18867270-271e-4982-a617-f9366482a425     2\n",
       "Name: UID, Length: 13013, dtype: int64"
      ]
     },
     "execution_count": 7,
     "metadata": {},
     "output_type": "execute_result"
    }
   ],
   "source": [
    "# Potential feature? Number of entries per id?\n",
    "\n",
    "duplicated_id = data ['UID'].value_counts ()\n",
    "duplicated_id [duplicated_id > 1]"
   ]
  },
  {
   "cell_type": "code",
   "execution_count": 9,
   "id": "f7967cd7",
   "metadata": {},
   "outputs": [
    {
     "data": {
      "text/plain": [
       "(16347,)"
      ]
     },
     "execution_count": 9,
     "metadata": {},
     "output_type": "execute_result"
    }
   ],
   "source": [
    "# same number of IDs as other data sets\n",
    "\n",
    "data.UID.drop_duplicates ().shape"
   ]
  },
  {
   "cell_type": "code",
   "execution_count": null,
   "id": "15f2f1ed",
   "metadata": {},
   "outputs": [],
   "source": []
  }
 ],
 "metadata": {
  "kernelspec": {
   "display_name": "Python 3 (ipykernel)",
   "language": "python",
   "name": "python3"
  },
  "language_info": {
   "codemirror_mode": {
    "name": "ipython",
    "version": 3
   },
   "file_extension": ".py",
   "mimetype": "text/x-python",
   "name": "python",
   "nbconvert_exporter": "python",
   "pygments_lexer": "ipython3",
   "version": "3.9.7"
  }
 },
 "nbformat": 4,
 "nbformat_minor": 5
}
