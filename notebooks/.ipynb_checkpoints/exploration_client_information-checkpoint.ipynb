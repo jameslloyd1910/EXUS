{
 "cells": [
  {
   "cell_type": "code",
   "execution_count": 1,
   "id": "92d03470",
   "metadata": {},
   "outputs": [],
   "source": [
    "import pandas as pd\n",
    "import matplotlib.pyplot as plt"
   ]
  },
  {
   "cell_type": "markdown",
   "id": "c76fea97",
   "metadata": {},
   "source": [
    "### Client_Information.csv: data providing additional information for the customers."
   ]
  },
  {
   "cell_type": "code",
   "execution_count": 20,
   "id": "2c7e8953",
   "metadata": {},
   "outputs": [],
   "source": [
    "data = pd.read_csv ('../../assignment_datasets/Client_Information.csv')\n",
    "data = data.dropna (axis = 1, how = 'all')"
   ]
  },
  {
   "cell_type": "code",
   "execution_count": 21,
   "id": "493ddfe9",
   "metadata": {},
   "outputs": [
    {
     "data": {
      "text/plain": [
       "(16347, 289)"
      ]
     },
     "execution_count": 21,
     "metadata": {},
     "output_type": "execute_result"
    }
   ],
   "source": [
    "data.shape"
   ]
  },
  {
   "cell_type": "code",
   "execution_count": 23,
   "id": "5046aa36",
   "metadata": {},
   "outputs": [
    {
     "data": {
      "text/plain": [
       "(16347, 289)"
      ]
     },
     "execution_count": 23,
     "metadata": {},
     "output_type": "execute_result"
    }
   ],
   "source": [
    "data.dropna (axis = 0, how = 'any').shape"
   ]
  },
  {
   "cell_type": "code",
   "execution_count": 22,
   "id": "7dee8eb3",
   "metadata": {},
   "outputs": [
    {
     "data": {
      "text/plain": [
       "array([dtype('O'), dtype('float64'), dtype('float64'), dtype('float64'),\n",
       "       dtype('float64'), dtype('float64'), dtype('float64'),\n",
       "       dtype('float64'), dtype('float64'), dtype('float64'),\n",
       "       dtype('float64'), dtype('float64'), dtype('float64'),\n",
       "       dtype('float64'), dtype('float64'), dtype('float64'),\n",
       "       dtype('float64'), dtype('float64'), dtype('float64'),\n",
       "       dtype('float64'), dtype('float64'), dtype('float64'), dtype('O'),\n",
       "       dtype('O'), dtype('O'), dtype('O'), dtype('O'), dtype('O'),\n",
       "       dtype('float64'), dtype('float64'), dtype('float64'),\n",
       "       dtype('float64'), dtype('float64'), dtype('float64'),\n",
       "       dtype('float64'), dtype('float64'), dtype('float64'),\n",
       "       dtype('float64'), dtype('float64'), dtype('float64'),\n",
       "       dtype('float64'), dtype('float64'), dtype('O'), dtype('O'),\n",
       "       dtype('float64'), dtype('float64'), dtype('float64'),\n",
       "       dtype('float64'), dtype('float64'), dtype('float64'),\n",
       "       dtype('float64'), dtype('float64'), dtype('float64'),\n",
       "       dtype('float64'), dtype('float64'), dtype('float64'),\n",
       "       dtype('float64'), dtype('float64'), dtype('float64'),\n",
       "       dtype('float64'), dtype('float64'), dtype('float64'),\n",
       "       dtype('float64'), dtype('float64'), dtype('float64'),\n",
       "       dtype('float64'), dtype('float64'), dtype('float64'),\n",
       "       dtype('float64'), dtype('float64'), dtype('float64'),\n",
       "       dtype('float64'), dtype('float64'), dtype('float64'),\n",
       "       dtype('float64'), dtype('float64'), dtype('float64'),\n",
       "       dtype('float64'), dtype('float64'), dtype('float64'),\n",
       "       dtype('float64'), dtype('float64'), dtype('float64'),\n",
       "       dtype('float64'), dtype('float64'), dtype('float64'),\n",
       "       dtype('float64'), dtype('float64'), dtype('float64'),\n",
       "       dtype('float64'), dtype('float64'), dtype('float64'),\n",
       "       dtype('float64'), dtype('float64'), dtype('float64'),\n",
       "       dtype('float64'), dtype('float64'), dtype('float64'),\n",
       "       dtype('float64'), dtype('float64'), dtype('float64'),\n",
       "       dtype('float64'), dtype('float64'), dtype('float64'),\n",
       "       dtype('float64'), dtype('float64'), dtype('float64'),\n",
       "       dtype('float64'), dtype('float64'), dtype('float64'),\n",
       "       dtype('float64'), dtype('float64'), dtype('float64'), dtype('O'),\n",
       "       dtype('O'), dtype('O'), dtype('O'), dtype('O'), dtype('O'),\n",
       "       dtype('O'), dtype('O'), dtype('O'), dtype('float64'),\n",
       "       dtype('float64'), dtype('O'), dtype('O'), dtype('O'), dtype('O'),\n",
       "       dtype('O'), dtype('O'), dtype('float64'), dtype('float64'),\n",
       "       dtype('float64'), dtype('float64'), dtype('float64'),\n",
       "       dtype('float64'), dtype('float64'), dtype('float64'),\n",
       "       dtype('float64'), dtype('float64'), dtype('float64'),\n",
       "       dtype('float64'), dtype('O'), dtype('float64'), dtype('float64'),\n",
       "       dtype('float64'), dtype('float64'), dtype('float64'), dtype('O'),\n",
       "       dtype('O'), dtype('O'), dtype('O'), dtype('O'), dtype('O'),\n",
       "       dtype('float64'), dtype('float64'), dtype('float64'),\n",
       "       dtype('float64'), dtype('float64'), dtype('float64'),\n",
       "       dtype('float64'), dtype('float64'), dtype('float64'),\n",
       "       dtype('float64'), dtype('float64'), dtype('float64'),\n",
       "       dtype('float64'), dtype('float64'), dtype('float64'),\n",
       "       dtype('float64'), dtype('float64'), dtype('float64'), dtype('O'),\n",
       "       dtype('O'), dtype('O'), dtype('float64'), dtype('float64'),\n",
       "       dtype('float64'), dtype('float64'), dtype('float64'),\n",
       "       dtype('float64'), dtype('float64'), dtype('O'), dtype('O'),\n",
       "       dtype('O'), dtype('O'), dtype('O'), dtype('O'), dtype('O'),\n",
       "       dtype('O'), dtype('O'), dtype('O'), dtype('O'), dtype('O'),\n",
       "       dtype('O'), dtype('O'), dtype('O'), dtype('O'), dtype('float64'),\n",
       "       dtype('float64'), dtype('float64'), dtype('O'), dtype('O'),\n",
       "       dtype('O'), dtype('O'), dtype('O'), dtype('float64'),\n",
       "       dtype('float64'), dtype('float64'), dtype('float64'),\n",
       "       dtype('float64'), dtype('float64'), dtype('float64'),\n",
       "       dtype('float64'), dtype('float64'), dtype('float64'), dtype('O'),\n",
       "       dtype('O'), dtype('O'), dtype('float64'), dtype('float64'),\n",
       "       dtype('float64'), dtype('float64'), dtype('float64'),\n",
       "       dtype('float64'), dtype('float64'), dtype('float64'),\n",
       "       dtype('float64'), dtype('float64'), dtype('float64'),\n",
       "       dtype('float64'), dtype('float64'), dtype('float64'),\n",
       "       dtype('float64'), dtype('float64'), dtype('float64'),\n",
       "       dtype('float64'), dtype('float64'), dtype('float64'),\n",
       "       dtype('float64'), dtype('float64'), dtype('float64'),\n",
       "       dtype('float64'), dtype('float64'), dtype('float64'),\n",
       "       dtype('float64'), dtype('float64'), dtype('float64'),\n",
       "       dtype('float64'), dtype('float64'), dtype('float64'),\n",
       "       dtype('float64'), dtype('float64'), dtype('float64'),\n",
       "       dtype('float64'), dtype('float64'), dtype('float64'),\n",
       "       dtype('float64'), dtype('float64'), dtype('float64'),\n",
       "       dtype('float64'), dtype('float64'), dtype('float64'),\n",
       "       dtype('float64'), dtype('float64'), dtype('float64'),\n",
       "       dtype('float64'), dtype('float64'), dtype('float64'),\n",
       "       dtype('float64'), dtype('float64'), dtype('float64'),\n",
       "       dtype('float64'), dtype('float64'), dtype('float64'),\n",
       "       dtype('float64'), dtype('float64'), dtype('O'), dtype('O'),\n",
       "       dtype('O'), dtype('O'), dtype('float64'), dtype('float64'),\n",
       "       dtype('float64'), dtype('float64'), dtype('float64'),\n",
       "       dtype('float64'), dtype('float64'), dtype('float64')], dtype=object)"
      ]
     },
     "execution_count": 22,
     "metadata": {},
     "output_type": "execute_result"
    }
   ],
   "source": [
    "data.dtypes.values"
   ]
  },
  {
   "cell_type": "code",
   "execution_count": 8,
   "id": "4bff114e",
   "metadata": {},
   "outputs": [
    {
     "data": {
      "text/plain": [
       "array(['UID', 'F_1', 'F_2', 'F_3', 'F_4', 'F_5', 'F_6', 'F_7', 'F_8',\n",
       "       'F_9', 'F_10', 'F_11', 'F_12', 'F_13', 'F_14', 'F_15', 'F_16',\n",
       "       'F_17', 'F_18', 'F_19', 'F_20', 'F_21', 'F_22', 'F_23', 'F_24',\n",
       "       'F_25', 'F_26', 'F_27', 'F_28', 'F_29', 'F_30', 'F_31', 'F_32',\n",
       "       'F_33', 'F_34', 'F_35', 'F_36', 'F_37', 'F_38', 'F_39', 'F_40',\n",
       "       'F_41', 'F_42', 'F_43', 'F_44', 'F_45', 'F_46', 'F_47', 'F_48',\n",
       "       'F_49', 'F_50', 'F_51', 'F_52', 'F_53', 'F_54', 'F_55', 'F_56',\n",
       "       'F_57', 'F_58', 'F_59', 'F_60', 'F_61', 'F_62', 'F_63', 'F_64',\n",
       "       'F_65', 'F_66', 'F_67', 'F_68', 'F_69', 'F_70', 'F_71', 'F_72',\n",
       "       'F_73', 'F_74', 'F_75', 'F_76', 'F_77', 'F_78', 'F_79', 'F_80',\n",
       "       'F_81', 'F_82', 'F_83', 'F_84', 'F_85', 'F_86', 'F_87', 'F_88',\n",
       "       'F_89', 'F_90', 'F_91', 'F_92', 'F_93', 'F_94', 'F_95', 'F_96',\n",
       "       'F_97', 'F_98', 'F_99', 'F_100', 'F_101', 'F_102', 'F_103',\n",
       "       'F_104', 'F_105', 'F_106', 'F_107', 'F_108', 'F_109', 'F_110',\n",
       "       'F_111', 'F_112', 'F_113', 'F_114', 'F_115', 'F_116', 'F_117',\n",
       "       'F_118', 'F_119', 'F_120', 'F_121', 'F_122', 'F_123', 'F_124',\n",
       "       'F_125', 'F_126', 'F_127', 'F_128', 'F_129', 'F_130', 'F_131',\n",
       "       'F_132', 'F_133', 'F_134', 'F_135', 'F_136', 'F_137', 'F_138',\n",
       "       'F_139', 'F_140', 'F_141', 'F_142', 'F_143', 'F_144', 'F_145',\n",
       "       'F_146', 'F_147', 'F_148', 'F_149', 'F_150', 'F_151', 'F_152',\n",
       "       'F_153', 'F_154', 'F_155', 'F_156', 'F_157', 'F_158', 'F_159',\n",
       "       'F_160', 'F_161', 'F_162', 'F_163', 'F_164', 'F_165', 'F_166',\n",
       "       'F_167', 'F_168', 'F_169', 'F_170', 'F_171', 'F_172', 'F_173',\n",
       "       'F_174', 'F_175', 'F_176', 'F_177', 'F_178', 'F_179', 'F_180',\n",
       "       'F_181', 'F_182', 'F_183', 'F_184', 'F_185', 'F_186', 'F_187',\n",
       "       'F_188', 'F_189', 'F_190', 'F_191', 'F_192', 'F_193', 'F_194',\n",
       "       'F_195', 'F_196', 'F_197', 'F_198', 'F_199', 'F_200', 'F_201',\n",
       "       'F_202', 'F_203', 'F_204', 'F_205', 'F_206', 'F_207', 'F_208',\n",
       "       'F_209', 'F_210', 'F_211', 'F_212', 'F_213', 'F_214', 'F_215',\n",
       "       'F_216', 'F_217', 'F_218', 'F_219', 'F_220', 'F_221', 'F_222',\n",
       "       'F_223', 'F_224', 'F_225', 'F_226', 'F_227', 'F_228', 'F_229',\n",
       "       'F_230', 'F_231', 'F_232', 'F_233', 'F_234', 'F_235', 'F_236',\n",
       "       'F_237', 'F_238', 'F_239', 'F_240', 'F_241', 'F_242', 'F_243',\n",
       "       'F_244', 'F_245', 'F_246', 'F_247', 'F_248', 'F_249', 'F_250',\n",
       "       'F_251', 'F_252', 'F_253', 'F_254', 'F_255', 'F_256', 'F_257',\n",
       "       'F_258', 'F_259', 'F_260', 'F_261', 'F_262', 'F_263', 'F_264',\n",
       "       'F_265', 'F_266', 'F_267', 'F_268', 'F_269', 'F_270', 'F_271',\n",
       "       'F_272', 'F_273', 'F_274', 'F_275', 'F_276', 'F_277', 'F_278',\n",
       "       'F_279', 'F_280', 'F_281', 'F_282', 'F_283', 'F_284', 'F_285',\n",
       "       'F_286', 'F_287', 'F_288', 'F_289'], dtype=object)"
      ]
     },
     "execution_count": 8,
     "metadata": {},
     "output_type": "execute_result"
    }
   ],
   "source": [
    "#anonymised data . . . how great!\n",
    "\n",
    "data.columns.values"
   ]
  },
  {
   "cell_type": "code",
   "execution_count": 24,
   "id": "4e020044",
   "metadata": {},
   "outputs": [
    {
     "data": {
      "text/html": [
       "<div>\n",
       "<style scoped>\n",
       "    .dataframe tbody tr th:only-of-type {\n",
       "        vertical-align: middle;\n",
       "    }\n",
       "\n",
       "    .dataframe tbody tr th {\n",
       "        vertical-align: top;\n",
       "    }\n",
       "\n",
       "    .dataframe thead th {\n",
       "        text-align: right;\n",
       "    }\n",
       "</style>\n",
       "<table border=\"1\" class=\"dataframe\">\n",
       "  <thead>\n",
       "    <tr style=\"text-align: right;\">\n",
       "      <th></th>\n",
       "      <th>UID</th>\n",
       "      <th>F_1</th>\n",
       "      <th>F_3</th>\n",
       "      <th>F_4</th>\n",
       "      <th>F_5</th>\n",
       "      <th>F_6</th>\n",
       "      <th>F_7</th>\n",
       "      <th>F_8</th>\n",
       "      <th>F_9</th>\n",
       "      <th>F_10</th>\n",
       "      <th>...</th>\n",
       "      <th>F_280</th>\n",
       "      <th>F_281</th>\n",
       "      <th>F_282</th>\n",
       "      <th>F_283</th>\n",
       "      <th>F_284</th>\n",
       "      <th>F_285</th>\n",
       "      <th>F_286</th>\n",
       "      <th>F_287</th>\n",
       "      <th>F_288</th>\n",
       "      <th>F_289</th>\n",
       "    </tr>\n",
       "  </thead>\n",
       "  <tbody>\n",
       "    <tr>\n",
       "      <th>0</th>\n",
       "      <td>a2166667-0cc1-4f1d-89da-974446920301</td>\n",
       "      <td>565.0</td>\n",
       "      <td>102.0</td>\n",
       "      <td>116.0</td>\n",
       "      <td>104.0</td>\n",
       "      <td>0.0</td>\n",
       "      <td>603.0</td>\n",
       "      <td>102.0</td>\n",
       "      <td>116.0</td>\n",
       "      <td>104.0</td>\n",
       "      <td>...</td>\n",
       "      <td>ND</td>\n",
       "      <td>ND</td>\n",
       "      <td>-999997.0</td>\n",
       "      <td>-999997.0</td>\n",
       "      <td>-999997.0</td>\n",
       "      <td>-999997.0</td>\n",
       "      <td>-999997.0</td>\n",
       "      <td>-999997.0</td>\n",
       "      <td>-999997.0</td>\n",
       "      <td>-999997.0</td>\n",
       "    </tr>\n",
       "    <tr>\n",
       "      <th>1</th>\n",
       "      <td>d1def6ea-4557-4629-aeef-89a384889d68</td>\n",
       "      <td>657.0</td>\n",
       "      <td>101.0</td>\n",
       "      <td>0.0</td>\n",
       "      <td>0.0</td>\n",
       "      <td>0.0</td>\n",
       "      <td>680.0</td>\n",
       "      <td>101.0</td>\n",
       "      <td>0.0</td>\n",
       "      <td>0.0</td>\n",
       "      <td>...</td>\n",
       "      <td>ND</td>\n",
       "      <td>ND</td>\n",
       "      <td>-999997.0</td>\n",
       "      <td>-999997.0</td>\n",
       "      <td>-999997.0</td>\n",
       "      <td>-999997.0</td>\n",
       "      <td>-999997.0</td>\n",
       "      <td>-999997.0</td>\n",
       "      <td>-999997.0</td>\n",
       "      <td>-999997.0</td>\n",
       "    </tr>\n",
       "    <tr>\n",
       "      <th>2</th>\n",
       "      <td>29d200c0-97cd-452b-b9f1-bcd940ba059a</td>\n",
       "      <td>605.0</td>\n",
       "      <td>102.0</td>\n",
       "      <td>203.0</td>\n",
       "      <td>0.0</td>\n",
       "      <td>0.0</td>\n",
       "      <td>636.0</td>\n",
       "      <td>102.0</td>\n",
       "      <td>203.0</td>\n",
       "      <td>0.0</td>\n",
       "      <td>...</td>\n",
       "      <td>ND</td>\n",
       "      <td>ND</td>\n",
       "      <td>-999997.0</td>\n",
       "      <td>-999997.0</td>\n",
       "      <td>-999997.0</td>\n",
       "      <td>-999997.0</td>\n",
       "      <td>-999997.0</td>\n",
       "      <td>-999997.0</td>\n",
       "      <td>-999997.0</td>\n",
       "      <td>-999997.0</td>\n",
       "    </tr>\n",
       "    <tr>\n",
       "      <th>3</th>\n",
       "      <td>a21f04c5-ab93-48b3-8bfc-868f84aa7a09</td>\n",
       "      <td>679.0</td>\n",
       "      <td>506.0</td>\n",
       "      <td>104.0</td>\n",
       "      <td>0.0</td>\n",
       "      <td>0.0</td>\n",
       "      <td>722.0</td>\n",
       "      <td>506.0</td>\n",
       "      <td>104.0</td>\n",
       "      <td>0.0</td>\n",
       "      <td>...</td>\n",
       "      <td>ND</td>\n",
       "      <td>ND</td>\n",
       "      <td>-999997.0</td>\n",
       "      <td>-999997.0</td>\n",
       "      <td>-999997.0</td>\n",
       "      <td>-999997.0</td>\n",
       "      <td>-999997.0</td>\n",
       "      <td>-999997.0</td>\n",
       "      <td>-999997.0</td>\n",
       "      <td>-999997.0</td>\n",
       "    </tr>\n",
       "    <tr>\n",
       "      <th>4</th>\n",
       "      <td>2ed6bbc9-980a-4686-a585-aef5e2655ac2</td>\n",
       "      <td>586.0</td>\n",
       "      <td>102.0</td>\n",
       "      <td>104.0</td>\n",
       "      <td>112.0</td>\n",
       "      <td>0.0</td>\n",
       "      <td>614.0</td>\n",
       "      <td>102.0</td>\n",
       "      <td>104.0</td>\n",
       "      <td>112.0</td>\n",
       "      <td>...</td>\n",
       "      <td>ND</td>\n",
       "      <td>ND</td>\n",
       "      <td>-999997.0</td>\n",
       "      <td>-999997.0</td>\n",
       "      <td>-999997.0</td>\n",
       "      <td>-999997.0</td>\n",
       "      <td>-999997.0</td>\n",
       "      <td>-999997.0</td>\n",
       "      <td>-999997.0</td>\n",
       "      <td>-999997.0</td>\n",
       "    </tr>\n",
       "  </tbody>\n",
       "</table>\n",
       "<p>5 rows × 289 columns</p>\n",
       "</div>"
      ],
      "text/plain": [
       "                                    UID    F_1    F_3    F_4    F_5  F_6  \\\n",
       "0  a2166667-0cc1-4f1d-89da-974446920301  565.0  102.0  116.0  104.0  0.0   \n",
       "1  d1def6ea-4557-4629-aeef-89a384889d68  657.0  101.0    0.0    0.0  0.0   \n",
       "2  29d200c0-97cd-452b-b9f1-bcd940ba059a  605.0  102.0  203.0    0.0  0.0   \n",
       "3  a21f04c5-ab93-48b3-8bfc-868f84aa7a09  679.0  506.0  104.0    0.0  0.0   \n",
       "4  2ed6bbc9-980a-4686-a585-aef5e2655ac2  586.0  102.0  104.0  112.0  0.0   \n",
       "\n",
       "     F_7    F_8    F_9   F_10  ...  F_280  F_281     F_282     F_283  \\\n",
       "0  603.0  102.0  116.0  104.0  ...     ND     ND -999997.0 -999997.0   \n",
       "1  680.0  101.0    0.0    0.0  ...     ND     ND -999997.0 -999997.0   \n",
       "2  636.0  102.0  203.0    0.0  ...     ND     ND -999997.0 -999997.0   \n",
       "3  722.0  506.0  104.0    0.0  ...     ND     ND -999997.0 -999997.0   \n",
       "4  614.0  102.0  104.0  112.0  ...     ND     ND -999997.0 -999997.0   \n",
       "\n",
       "      F_284     F_285     F_286     F_287     F_288     F_289  \n",
       "0 -999997.0 -999997.0 -999997.0 -999997.0 -999997.0 -999997.0  \n",
       "1 -999997.0 -999997.0 -999997.0 -999997.0 -999997.0 -999997.0  \n",
       "2 -999997.0 -999997.0 -999997.0 -999997.0 -999997.0 -999997.0  \n",
       "3 -999997.0 -999997.0 -999997.0 -999997.0 -999997.0 -999997.0  \n",
       "4 -999997.0 -999997.0 -999997.0 -999997.0 -999997.0 -999997.0  \n",
       "\n",
       "[5 rows x 289 columns]"
      ]
     },
     "execution_count": 24,
     "metadata": {},
     "output_type": "execute_result"
    }
   ],
   "source": [
    "data.head ()"
   ]
  },
  {
   "cell_type": "code",
   "execution_count": 43,
   "id": "7d5363ee",
   "metadata": {},
   "outputs": [],
   "source": [
    "for c in data.columns.values :\n",
    "    if len (data [c].value_counts ()) == 1:\n",
    "        data.drop (c, axis = 1, inplace = True)"
   ]
  },
  {
   "cell_type": "code",
   "execution_count": 44,
   "id": "2d3216c3",
   "metadata": {},
   "outputs": [
    {
     "data": {
      "text/plain": [
       "(16347, 251)"
      ]
     },
     "execution_count": 44,
     "metadata": {},
     "output_type": "execute_result"
    }
   ],
   "source": [
    "data.shape"
   ]
  },
  {
   "cell_type": "code",
   "execution_count": 11,
   "id": "6ce3d373",
   "metadata": {},
   "outputs": [
    {
     "data": {
      "text/plain": [
       "Series([], Name: UID, dtype: int64)"
      ]
     },
     "execution_count": 11,
     "metadata": {},
     "output_type": "execute_result"
    }
   ],
   "source": [
    "#no duplicate IDs\n",
    "\n",
    "duplicated_id = data ['UID'].value_counts ()\n",
    "duplicated_id [duplicated_id > 1]"
   ]
  },
  {
   "cell_type": "markdown",
   "id": "a27f0ecb",
   "metadata": {},
   "source": [
    "## Binary variables"
   ]
  },
  {
   "cell_type": "code",
   "execution_count": 60,
   "id": "ff9e0b67",
   "metadata": {},
   "outputs": [
    {
     "name": "stdout",
     "output_type": "stream",
     "text": [
      "F_30\n",
      "F_131\n",
      "F_132\n",
      "F_133\n",
      "F_134\n",
      "F_139\n",
      "F_140\n"
     ]
    }
   ],
   "source": [
    "for c in data.columns.values :\n",
    "    if len (data [c].value_counts ()) == 2:\n",
    "        print (c)"
   ]
  }
 ],
 "metadata": {
  "kernelspec": {
   "display_name": "Python 3 (ipykernel)",
   "language": "python",
   "name": "python3"
  },
  "language_info": {
   "codemirror_mode": {
    "name": "ipython",
    "version": 3
   },
   "file_extension": ".py",
   "mimetype": "text/x-python",
   "name": "python",
   "nbconvert_exporter": "python",
   "pygments_lexer": "ipython3",
   "version": "3.9.7"
  }
 },
 "nbformat": 4,
 "nbformat_minor": 5
}
