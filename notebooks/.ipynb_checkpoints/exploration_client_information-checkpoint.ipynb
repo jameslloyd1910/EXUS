{
 "cells": [
  {
   "cell_type": "code",
   "execution_count": 1,
   "id": "92d03470",
   "metadata": {},
   "outputs": [],
   "source": [
    "import pandas as pd\n",
    "import matplotlib.pyplot as plt"
   ]
  },
  {
   "cell_type": "markdown",
   "id": "04d22b98",
   "metadata": {},
   "source": [
    "### Client_Information.csv: data providing additional information for the customers."
   ]
  },
  {
   "cell_type": "code",
   "execution_count": 2,
   "id": "2c7e8953",
   "metadata": {},
   "outputs": [],
   "source": [
    "data = pd.read_csv ('../../assignment_datasets/Client_Information.csv')\n",
    "data.columns = pd.Series (data.columns).astype (str).apply (lambda x : x.lower ()).values\n",
    "data = data.dropna (axis = 1, how = 'all')"
   ]
  },
  {
   "cell_type": "code",
   "execution_count": 3,
   "id": "d3b8595e",
   "metadata": {},
   "outputs": [
    {
     "data": {
      "text/plain": [
       "(16347, 289)"
      ]
     },
     "execution_count": 3,
     "metadata": {},
     "output_type": "execute_result"
    }
   ],
   "source": [
    "# One entry per customer\n",
    "\n",
    "data.shape"
   ]
  },
  {
   "cell_type": "code",
   "execution_count": 4,
   "id": "6e2aa43b",
   "metadata": {},
   "outputs": [
    {
     "data": {
      "text/plain": [
       "(16347, 289)"
      ]
     },
     "execution_count": 4,
     "metadata": {},
     "output_type": "execute_result"
    }
   ],
   "source": [
    "data.dropna (axis = 0, how = 'any').shape"
   ]
  },
  {
   "cell_type": "code",
   "execution_count": 5,
   "id": "7fc43f2b",
   "metadata": {},
   "outputs": [],
   "source": [
    "data_types = data.set_index ('uid').dtypes.reset_index ()"
   ]
  },
  {
   "cell_type": "code",
   "execution_count": 6,
   "id": "4d3adfc8",
   "metadata": {},
   "outputs": [],
   "source": [
    "data_types.columns = ['variable', 'type']"
   ]
  },
  {
   "cell_type": "code",
   "execution_count": 14,
   "id": "396b2664",
   "metadata": {},
   "outputs": [],
   "source": [
    "for c in data_types [data_types.type == 'O'].variable.values:\n",
    "    print (c)\n",
    "    print (data [c].value_counts ())"
   ]
  },
  {
   "cell_type": "code",
   "execution_count": 9,
   "id": "4e020044",
   "metadata": {},
   "outputs": [
    {
     "data": {
      "text/html": [
       "<div>\n",
       "<style scoped>\n",
       "    .dataframe tbody tr th:only-of-type {\n",
       "        vertical-align: middle;\n",
       "    }\n",
       "\n",
       "    .dataframe tbody tr th {\n",
       "        vertical-align: top;\n",
       "    }\n",
       "\n",
       "    .dataframe thead th {\n",
       "        text-align: right;\n",
       "    }\n",
       "</style>\n",
       "<table border=\"1\" class=\"dataframe\">\n",
       "  <thead>\n",
       "    <tr style=\"text-align: right;\">\n",
       "      <th></th>\n",
       "      <th>UID</th>\n",
       "      <th>F_1</th>\n",
       "      <th>F_3</th>\n",
       "      <th>F_4</th>\n",
       "      <th>F_5</th>\n",
       "      <th>F_6</th>\n",
       "      <th>F_7</th>\n",
       "      <th>F_8</th>\n",
       "      <th>F_9</th>\n",
       "      <th>F_10</th>\n",
       "      <th>...</th>\n",
       "      <th>F_280</th>\n",
       "      <th>F_281</th>\n",
       "      <th>F_282</th>\n",
       "      <th>F_283</th>\n",
       "      <th>F_284</th>\n",
       "      <th>F_285</th>\n",
       "      <th>F_286</th>\n",
       "      <th>F_287</th>\n",
       "      <th>F_288</th>\n",
       "      <th>F_289</th>\n",
       "    </tr>\n",
       "  </thead>\n",
       "  <tbody>\n",
       "    <tr>\n",
       "      <th>0</th>\n",
       "      <td>a2166667-0cc1-4f1d-89da-974446920301</td>\n",
       "      <td>565.0</td>\n",
       "      <td>102.0</td>\n",
       "      <td>116.0</td>\n",
       "      <td>104.0</td>\n",
       "      <td>0.0</td>\n",
       "      <td>603.0</td>\n",
       "      <td>102.0</td>\n",
       "      <td>116.0</td>\n",
       "      <td>104.0</td>\n",
       "      <td>...</td>\n",
       "      <td>ND</td>\n",
       "      <td>ND</td>\n",
       "      <td>-999997.0</td>\n",
       "      <td>-999997.0</td>\n",
       "      <td>-999997.0</td>\n",
       "      <td>-999997.0</td>\n",
       "      <td>-999997.0</td>\n",
       "      <td>-999997.0</td>\n",
       "      <td>-999997.0</td>\n",
       "      <td>-999997.0</td>\n",
       "    </tr>\n",
       "    <tr>\n",
       "      <th>1</th>\n",
       "      <td>d1def6ea-4557-4629-aeef-89a384889d68</td>\n",
       "      <td>657.0</td>\n",
       "      <td>101.0</td>\n",
       "      <td>0.0</td>\n",
       "      <td>0.0</td>\n",
       "      <td>0.0</td>\n",
       "      <td>680.0</td>\n",
       "      <td>101.0</td>\n",
       "      <td>0.0</td>\n",
       "      <td>0.0</td>\n",
       "      <td>...</td>\n",
       "      <td>ND</td>\n",
       "      <td>ND</td>\n",
       "      <td>-999997.0</td>\n",
       "      <td>-999997.0</td>\n",
       "      <td>-999997.0</td>\n",
       "      <td>-999997.0</td>\n",
       "      <td>-999997.0</td>\n",
       "      <td>-999997.0</td>\n",
       "      <td>-999997.0</td>\n",
       "      <td>-999997.0</td>\n",
       "    </tr>\n",
       "    <tr>\n",
       "      <th>2</th>\n",
       "      <td>29d200c0-97cd-452b-b9f1-bcd940ba059a</td>\n",
       "      <td>605.0</td>\n",
       "      <td>102.0</td>\n",
       "      <td>203.0</td>\n",
       "      <td>0.0</td>\n",
       "      <td>0.0</td>\n",
       "      <td>636.0</td>\n",
       "      <td>102.0</td>\n",
       "      <td>203.0</td>\n",
       "      <td>0.0</td>\n",
       "      <td>...</td>\n",
       "      <td>ND</td>\n",
       "      <td>ND</td>\n",
       "      <td>-999997.0</td>\n",
       "      <td>-999997.0</td>\n",
       "      <td>-999997.0</td>\n",
       "      <td>-999997.0</td>\n",
       "      <td>-999997.0</td>\n",
       "      <td>-999997.0</td>\n",
       "      <td>-999997.0</td>\n",
       "      <td>-999997.0</td>\n",
       "    </tr>\n",
       "    <tr>\n",
       "      <th>3</th>\n",
       "      <td>a21f04c5-ab93-48b3-8bfc-868f84aa7a09</td>\n",
       "      <td>679.0</td>\n",
       "      <td>506.0</td>\n",
       "      <td>104.0</td>\n",
       "      <td>0.0</td>\n",
       "      <td>0.0</td>\n",
       "      <td>722.0</td>\n",
       "      <td>506.0</td>\n",
       "      <td>104.0</td>\n",
       "      <td>0.0</td>\n",
       "      <td>...</td>\n",
       "      <td>ND</td>\n",
       "      <td>ND</td>\n",
       "      <td>-999997.0</td>\n",
       "      <td>-999997.0</td>\n",
       "      <td>-999997.0</td>\n",
       "      <td>-999997.0</td>\n",
       "      <td>-999997.0</td>\n",
       "      <td>-999997.0</td>\n",
       "      <td>-999997.0</td>\n",
       "      <td>-999997.0</td>\n",
       "    </tr>\n",
       "    <tr>\n",
       "      <th>4</th>\n",
       "      <td>2ed6bbc9-980a-4686-a585-aef5e2655ac2</td>\n",
       "      <td>586.0</td>\n",
       "      <td>102.0</td>\n",
       "      <td>104.0</td>\n",
       "      <td>112.0</td>\n",
       "      <td>0.0</td>\n",
       "      <td>614.0</td>\n",
       "      <td>102.0</td>\n",
       "      <td>104.0</td>\n",
       "      <td>112.0</td>\n",
       "      <td>...</td>\n",
       "      <td>ND</td>\n",
       "      <td>ND</td>\n",
       "      <td>-999997.0</td>\n",
       "      <td>-999997.0</td>\n",
       "      <td>-999997.0</td>\n",
       "      <td>-999997.0</td>\n",
       "      <td>-999997.0</td>\n",
       "      <td>-999997.0</td>\n",
       "      <td>-999997.0</td>\n",
       "      <td>-999997.0</td>\n",
       "    </tr>\n",
       "  </tbody>\n",
       "</table>\n",
       "<p>5 rows × 289 columns</p>\n",
       "</div>"
      ],
      "text/plain": [
       "                                    UID    F_1    F_3    F_4    F_5  F_6  \\\n",
       "0  a2166667-0cc1-4f1d-89da-974446920301  565.0  102.0  116.0  104.0  0.0   \n",
       "1  d1def6ea-4557-4629-aeef-89a384889d68  657.0  101.0    0.0    0.0  0.0   \n",
       "2  29d200c0-97cd-452b-b9f1-bcd940ba059a  605.0  102.0  203.0    0.0  0.0   \n",
       "3  a21f04c5-ab93-48b3-8bfc-868f84aa7a09  679.0  506.0  104.0    0.0  0.0   \n",
       "4  2ed6bbc9-980a-4686-a585-aef5e2655ac2  586.0  102.0  104.0  112.0  0.0   \n",
       "\n",
       "     F_7    F_8    F_9   F_10  ...  F_280  F_281     F_282     F_283  \\\n",
       "0  603.0  102.0  116.0  104.0  ...     ND     ND -999997.0 -999997.0   \n",
       "1  680.0  101.0    0.0    0.0  ...     ND     ND -999997.0 -999997.0   \n",
       "2  636.0  102.0  203.0    0.0  ...     ND     ND -999997.0 -999997.0   \n",
       "3  722.0  506.0  104.0    0.0  ...     ND     ND -999997.0 -999997.0   \n",
       "4  614.0  102.0  104.0  112.0  ...     ND     ND -999997.0 -999997.0   \n",
       "\n",
       "      F_284     F_285     F_286     F_287     F_288     F_289  \n",
       "0 -999997.0 -999997.0 -999997.0 -999997.0 -999997.0 -999997.0  \n",
       "1 -999997.0 -999997.0 -999997.0 -999997.0 -999997.0 -999997.0  \n",
       "2 -999997.0 -999997.0 -999997.0 -999997.0 -999997.0 -999997.0  \n",
       "3 -999997.0 -999997.0 -999997.0 -999997.0 -999997.0 -999997.0  \n",
       "4 -999997.0 -999997.0 -999997.0 -999997.0 -999997.0 -999997.0  \n",
       "\n",
       "[5 rows x 289 columns]"
      ]
     },
     "execution_count": 9,
     "metadata": {},
     "output_type": "execute_result"
    }
   ],
   "source": [
    "# F_1 is the client's score . . . certainly important!\n",
    "\n",
    "data.head ()"
   ]
  },
  {
   "cell_type": "code",
   "execution_count": 10,
   "id": "3ab83bd3",
   "metadata": {},
   "outputs": [],
   "source": [
    "for c in data.columns.values :\n",
    "    if len (data [c].value_counts ()) == 1:\n",
    "        data.drop (c, axis = 1, inplace = True)"
   ]
  },
  {
   "cell_type": "code",
   "execution_count": 11,
   "id": "918fca75",
   "metadata": {},
   "outputs": [
    {
     "data": {
      "text/plain": [
       "(16347, 251)"
      ]
     },
     "execution_count": 11,
     "metadata": {},
     "output_type": "execute_result"
    }
   ],
   "source": [
    "data.shape"
   ]
  },
  {
   "cell_type": "code",
   "execution_count": 12,
   "id": "6ce3d373",
   "metadata": {},
   "outputs": [
    {
     "data": {
      "text/plain": [
       "Series([], Name: UID, dtype: int64)"
      ]
     },
     "execution_count": 12,
     "metadata": {},
     "output_type": "execute_result"
    }
   ],
   "source": [
    "#no duplicate IDs\n",
    "\n",
    "duplicated_id = data ['uid'].value_counts ()\n",
    "duplicated_id [duplicated_id > 1]"
   ]
  },
  {
   "cell_type": "markdown",
   "id": "d7a2baab",
   "metadata": {},
   "source": [
    "## Categorical variables (probably)"
   ]
  },
  {
   "cell_type": "code",
   "execution_count": 18,
   "id": "b621e622",
   "metadata": {},
   "outputs": [
    {
     "name": "stdout",
     "output_type": "stream",
     "text": [
      "F_168\n"
     ]
    }
   ],
   "source": [
    "for c in data.columns.values :\n",
    "    if (len (data [c].value_counts ()) == 10) & (data [c].dtype == float):\n",
    "        print (c)"
   ]
  },
  {
   "cell_type": "code",
   "execution_count": null,
   "id": "62523bc3",
   "metadata": {},
   "outputs": [],
   "source": []
  }
 ],
 "metadata": {
  "kernelspec": {
   "display_name": "Python 3 (ipykernel)",
   "language": "python",
   "name": "python3"
  },
  "language_info": {
   "codemirror_mode": {
    "name": "ipython",
    "version": 3
   },
   "file_extension": ".py",
   "mimetype": "text/x-python",
   "name": "python",
   "nbconvert_exporter": "python",
   "pygments_lexer": "ipython3",
   "version": "3.9.7"
  }
 },
 "nbformat": 4,
 "nbformat_minor": 5
}
