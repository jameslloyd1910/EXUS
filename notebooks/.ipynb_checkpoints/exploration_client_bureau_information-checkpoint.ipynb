{
 "cells": [
  {
   "cell_type": "code",
   "execution_count": 1,
   "id": "8a6c0e26",
   "metadata": {},
   "outputs": [],
   "source": [
    "import pandas as pd\n",
    "import matplotlib.pyplot as plt"
   ]
  },
  {
   "cell_type": "markdown",
   "id": "6b87a2b7",
   "metadata": {},
   "source": [
    "### Default_Data.csv: data describing defaulters and no defaulters (i.e., good/bad customers)."
   ]
  },
  {
   "cell_type": "code",
   "execution_count": 2,
   "id": "2873d75f",
   "metadata": {},
   "outputs": [],
   "source": [
    "data = pd.read_csv ('../../assignment_datasets/Client_Bureau_Information.csv')"
   ]
  },
  {
   "cell_type": "code",
   "execution_count": 3,
   "id": "34960a7d",
   "metadata": {},
   "outputs": [
    {
     "data": {
      "text/plain": [
       "Index(['UID', 'SCORE', 'CLASS'], dtype='object')"
      ]
     },
     "execution_count": 3,
     "metadata": {},
     "output_type": "execute_result"
    }
   ],
   "source": [
    "data.columns"
   ]
  },
  {
   "cell_type": "code",
   "execution_count": 4,
   "id": "31109dba",
   "metadata": {},
   "outputs": [
    {
     "data": {
      "text/html": [
       "<div>\n",
       "<style scoped>\n",
       "    .dataframe tbody tr th:only-of-type {\n",
       "        vertical-align: middle;\n",
       "    }\n",
       "\n",
       "    .dataframe tbody tr th {\n",
       "        vertical-align: top;\n",
       "    }\n",
       "\n",
       "    .dataframe thead th {\n",
       "        text-align: right;\n",
       "    }\n",
       "</style>\n",
       "<table border=\"1\" class=\"dataframe\">\n",
       "  <thead>\n",
       "    <tr style=\"text-align: right;\">\n",
       "      <th></th>\n",
       "      <th>UID</th>\n",
       "      <th>SCORE</th>\n",
       "      <th>CLASS</th>\n",
       "    </tr>\n",
       "  </thead>\n",
       "  <tbody>\n",
       "    <tr>\n",
       "      <th>0</th>\n",
       "      <td>440ba427-f46a-41d7-bf6d-5b5b1eb3cc26</td>\n",
       "      <td>524.0</td>\n",
       "      <td>STANDARD</td>\n",
       "    </tr>\n",
       "    <tr>\n",
       "      <th>1</th>\n",
       "      <td>8d5f1532-453d-4cce-9ae6-23a06affa479</td>\n",
       "      <td>601.0</td>\n",
       "      <td>STANDARD</td>\n",
       "    </tr>\n",
       "    <tr>\n",
       "      <th>2</th>\n",
       "      <td>59ade0ad-460f-49d6-9b3d-359610bee8dd</td>\n",
       "      <td>507.0</td>\n",
       "      <td>STANDARD</td>\n",
       "    </tr>\n",
       "    <tr>\n",
       "      <th>3</th>\n",
       "      <td>73252b25-3564-4b73-a27e-a08c2a5e882b</td>\n",
       "      <td>519.0</td>\n",
       "      <td>PREMIUM</td>\n",
       "    </tr>\n",
       "    <tr>\n",
       "      <th>4</th>\n",
       "      <td>c85f7e49-61da-42d1-bcf9-ae68c3af7ac8</td>\n",
       "      <td>567.0</td>\n",
       "      <td>PREMIUM</td>\n",
       "    </tr>\n",
       "  </tbody>\n",
       "</table>\n",
       "</div>"
      ],
      "text/plain": [
       "                                    UID  SCORE     CLASS\n",
       "0  440ba427-f46a-41d7-bf6d-5b5b1eb3cc26  524.0  STANDARD\n",
       "1  8d5f1532-453d-4cce-9ae6-23a06affa479  601.0  STANDARD\n",
       "2  59ade0ad-460f-49d6-9b3d-359610bee8dd  507.0  STANDARD\n",
       "3  73252b25-3564-4b73-a27e-a08c2a5e882b  519.0   PREMIUM\n",
       "4  c85f7e49-61da-42d1-bcf9-ae68c3af7ac8  567.0   PREMIUM"
      ]
     },
     "execution_count": 4,
     "metadata": {},
     "output_type": "execute_result"
    }
   ],
   "source": [
    "data.head ()"
   ]
  },
  {
   "cell_type": "code",
   "execution_count": null,
   "id": "fb358c3e",
   "metadata": {},
   "outputs": [],
   "source": []
  }
 ],
 "metadata": {
  "kernelspec": {
   "display_name": "Python 3 (ipykernel)",
   "language": "python",
   "name": "python3"
  },
  "language_info": {
   "codemirror_mode": {
    "name": "ipython",
    "version": 3
   },
   "file_extension": ".py",
   "mimetype": "text/x-python",
   "name": "python",
   "nbconvert_exporter": "python",
   "pygments_lexer": "ipython3",
   "version": "3.9.7"
  }
 },
 "nbformat": 4,
 "nbformat_minor": 5
}
