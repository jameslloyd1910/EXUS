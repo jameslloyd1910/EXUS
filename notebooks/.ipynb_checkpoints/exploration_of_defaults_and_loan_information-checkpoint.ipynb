{
 "cells": [
  {
   "cell_type": "code",
   "execution_count": 39,
   "id": "43eb9cfe",
   "metadata": {},
   "outputs": [],
   "source": [
    "import pandas as pd\n",
    "import matplotlib.pyplot as plt"
   ]
  },
  {
   "cell_type": "code",
   "execution_count": 40,
   "id": "669c28e0",
   "metadata": {},
   "outputs": [],
   "source": [
    "default = pd.read_csv ('../data/default_data.csv')"
   ]
  },
  {
   "cell_type": "code",
   "execution_count": 41,
   "id": "b4e7c46c",
   "metadata": {},
   "outputs": [],
   "source": [
    "loans = pd.read_csv ('../data/loan_information.csv')"
   ]
  },
  {
   "cell_type": "code",
   "execution_count": 55,
   "id": "a7f47a57",
   "metadata": {},
   "outputs": [],
   "source": [
    "client = pd.read_csv ('../data/client_bureau_information.csv')"
   ]
  },
  {
   "cell_type": "code",
   "execution_count": 42,
   "id": "a7efe821",
   "metadata": {},
   "outputs": [],
   "source": [
    "default ['joined'] = 1"
   ]
  },
  {
   "cell_type": "code",
   "execution_count": 56,
   "id": "e2d54083",
   "metadata": {},
   "outputs": [],
   "source": [
    "data = (loans\n",
    "        .join (default.set_index (['uid', 'recordnumber']), on = ['uid', 'recordnumber'])\n",
    "        .join (client.set_index (['uid']), on = ['uid'])\n",
    "       )"
   ]
  },
  {
   "cell_type": "code",
   "execution_count": 57,
   "id": "494d3358",
   "metadata": {},
   "outputs": [],
   "source": [
    "data = data [data.joined == 1].drop ('joined', axis = 1)"
   ]
  },
  {
   "cell_type": "code",
   "execution_count": 58,
   "id": "20fabcac",
   "metadata": {},
   "outputs": [
    {
     "data": {
      "text/plain": [
       "999.0"
      ]
     },
     "execution_count": 58,
     "metadata": {},
     "output_type": "execute_result"
    }
   ],
   "source": [
    "data.repayperiod.max ()"
   ]
  },
  {
   "cell_type": "code",
   "execution_count": 59,
   "id": "7571917e",
   "metadata": {},
   "outputs": [
    {
     "data": {
      "text/plain": [
       "1.0"
      ]
     },
     "execution_count": 59,
     "metadata": {},
     "output_type": "execute_result"
    }
   ],
   "source": [
    "data.repayperiod.min ()"
   ]
  },
  {
   "cell_type": "code",
   "execution_count": 60,
   "id": "83a506a2",
   "metadata": {},
   "outputs": [
    {
     "data": {
      "text/plain": [
       "<AxesSubplot:>"
      ]
     },
     "execution_count": 60,
     "metadata": {},
     "output_type": "execute_result"
    },
    {
     "data": {
      "image/png": "[encoded data removed]",
      "text/plain": [
       "<Figure size 432x288 with 1 Axes>"
      ]
     },
     "metadata": {
      "needs_background": "light"
     },
     "output_type": "display_data"
    }
   ],
   "source": [
    "data.sort_values ('repayperiod').reset_index ().repayperiod.plot ()"
   ]
  },
  {
   "cell_type": "code",
   "execution_count": 61,
   "id": "d69bd6eb",
   "metadata": {},
   "outputs": [],
   "source": [
    "data = data [(data.repayperiod >=12) & (data.repayperiod <= 60)]"
   ]
  },
  {
   "cell_type": "code",
   "execution_count": 62,
   "id": "4300e57b",
   "metadata": {},
   "outputs": [],
   "source": [
    "data ['default'] = data ['dval'].apply (lambda x : 1 if x > 0 else 0)"
   ]
  },
  {
   "cell_type": "code",
   "execution_count": 63,
   "id": "a11e6e4d",
   "metadata": {},
   "outputs": [
    {
     "data": {
      "text/plain": [
       "Index(['uid', 'recordnumber', 'openbalance', 'accstartdate', 'first_month',\n",
       "       'last_month', 'repayperiod', 'searchdate', 'dval', 'dmon', 'class',\n",
       "       'default'],\n",
       "      dtype='object')"
      ]
     },
     "execution_count": 63,
     "metadata": {},
     "output_type": "execute_result"
    }
   ],
   "source": [
    "data.columns"
   ]
  },
  {
   "cell_type": "code",
   "execution_count": 64,
   "id": "3a0b82dc",
   "metadata": {},
   "outputs": [
    {
     "data": {
      "image/png": "[encoded data removed]",
      "text/plain": [
       "<Figure size 432x288 with 1 Axes>"
      ]
     },
     "metadata": {
      "needs_background": "light"
     },
     "output_type": "display_data"
    }
   ],
   "source": [
    "plt.hist (data[(data.default == 1) & (data ['openbalance'] > -99999.0)] ['openbalance'], \n",
    "          alpha = 0.5, \n",
    "          label='default', \n",
    "          density=True\n",
    "         );\n",
    "\n",
    "plt.hist (data[(data.default == 0) & (data ['openbalance'] > -99999.0)] ['openbalance'], \n",
    "          alpha = 0.5, \n",
    "          label='clean', \n",
    "          density=True\n",
    "         );\n",
    "\n",
    "plt.legend ()\n",
    "plt.show ()"
   ]
  },
  {
   "cell_type": "code",
   "execution_count": 68,
   "id": "a9c2e037",
   "metadata": {},
   "outputs": [
    {
     "data": {
      "image/png": "[encoded data removed]",
      "text/plain": [
       "<Figure size 432x288 with 1 Axes>"
      ]
     },
     "metadata": {
      "needs_background": "light"
     },
     "output_type": "display_data"
    }
   ],
   "source": [
    "plt.hist (data[(data.default == 1) & (data ['repayperiod'] > -99999.0)] ['openbalance'], \n",
    "          alpha = 0.5, \n",
    "          label='default', \n",
    "          density=True\n",
    "         );\n",
    "\n",
    "plt.hist (data[(data.default == 0) & (data ['repayperiod'] > -99999.0)] ['openbalance'], \n",
    "          alpha = 0.5, \n",
    "          label='clean', \n",
    "          density=True\n",
    "         );\n",
    "\n",
    "plt.legend ()\n",
    "plt.show ()"
   ]
  },
  {
   "cell_type": "code",
   "execution_count": 65,
   "id": "944b2201",
   "metadata": {},
   "outputs": [
    {
     "data": {
      "image/png": "[encoded data removed]",
      "text/plain": [
       "<Figure size 432x288 with 1 Axes>"
      ]
     },
     "metadata": {
      "needs_background": "light"
     },
     "output_type": "display_data"
    }
   ],
   "source": [
    "plt.hist (data[(data.default == 1) & (data ['dmon'])] ['dmon'], \n",
    "          alpha = 0.5, \n",
    "          label='default', \n",
    "          density=True\n",
    "         );\n",
    "\n",
    "plt.legend ()\n",
    "plt.show ()"
   ]
  },
  {
   "cell_type": "code",
   "execution_count": 66,
   "id": "72f3400b",
   "metadata": {},
   "outputs": [
    {
     "data": {
      "image/png": "[encoded data removed]",
      "text/plain": [
       "<Figure size 432x288 with 1 Axes>"
      ]
     },
     "metadata": {
      "needs_background": "light"
     },
     "output_type": "display_data"
    }
   ],
   "source": [
    "quick_data = (data.groupby ('class').default.value_counts ()\n",
    "              .rename ().reset_index ()\n",
    "              .rename (columns = {0 : 'count'}))\n",
    "\n",
    "quick_data.pivot (index = 'class', columns='default').plot.bar (stacked=True)\n",
    "\n",
    "plt.legend ()\n",
    "plt.show ()"
   ]
  },
  {
   "cell_type": "code",
   "execution_count": 67,
   "id": "1a779565",
   "metadata": {},
   "outputs": [
    {
     "data": {
      "text/html": [
       "<div>\n",
       "<style scoped>\n",
       "    .dataframe tbody tr th:only-of-type {\n",
       "        vertical-align: middle;\n",
       "    }\n",
       "\n",
       "    .dataframe tbody tr th {\n",
       "        vertical-align: top;\n",
       "    }\n",
       "\n",
       "    .dataframe thead th {\n",
       "        text-align: right;\n",
       "    }\n",
       "</style>\n",
       "<table border=\"1\" class=\"dataframe\">\n",
       "  <thead>\n",
       "    <tr style=\"text-align: right;\">\n",
       "      <th></th>\n",
       "      <th>uid</th>\n",
       "      <th>recordnumber</th>\n",
       "      <th>openbalance</th>\n",
       "      <th>accstartdate</th>\n",
       "      <th>first_month</th>\n",
       "      <th>last_month</th>\n",
       "      <th>repayperiod</th>\n",
       "      <th>searchdate</th>\n",
       "      <th>dval</th>\n",
       "      <th>dmon</th>\n",
       "      <th>class</th>\n",
       "      <th>default</th>\n",
       "    </tr>\n",
       "  </thead>\n",
       "  <tbody>\n",
       "    <tr>\n",
       "      <th>5</th>\n",
       "      <td>89761744-b42f-43cd-bd3c-5c363c44671a</td>\n",
       "      <td>12</td>\n",
       "      <td>59.0</td>\n",
       "      <td>2017-12-01</td>\n",
       "      <td>2018-01-01</td>\n",
       "      <td>2019-09-01</td>\n",
       "      <td>12.0</td>\n",
       "      <td>2019-09-24</td>\n",
       "      <td>47.0</td>\n",
       "      <td>13.0</td>\n",
       "      <td>PREMIUM</td>\n",
       "      <td>1</td>\n",
       "    </tr>\n",
       "    <tr>\n",
       "      <th>8</th>\n",
       "      <td>131da6e2-9d4a-4d06-9c81-08875219f7c6</td>\n",
       "      <td>10</td>\n",
       "      <td>166.0</td>\n",
       "      <td>2018-03-14</td>\n",
       "      <td>2018-10-01</td>\n",
       "      <td>2019-01-01</td>\n",
       "      <td>24.0</td>\n",
       "      <td>2019-01-13</td>\n",
       "      <td>NaN</td>\n",
       "      <td>NaN</td>\n",
       "      <td>STANDARD</td>\n",
       "      <td>0</td>\n",
       "    </tr>\n",
       "    <tr>\n",
       "      <th>16</th>\n",
       "      <td>298572be-5aed-44c6-a117-8655aef0615f</td>\n",
       "      <td>8</td>\n",
       "      <td>426.0</td>\n",
       "      <td>2015-07-31</td>\n",
       "      <td>2015-08-01</td>\n",
       "      <td>2019-07-01</td>\n",
       "      <td>36.0</td>\n",
       "      <td>2019-07-08</td>\n",
       "      <td>NaN</td>\n",
       "      <td>NaN</td>\n",
       "      <td>STANDARD</td>\n",
       "      <td>0</td>\n",
       "    </tr>\n",
       "    <tr>\n",
       "      <th>22</th>\n",
       "      <td>dcc6a62d-b5eb-4a31-ae41-cfb7de45596a</td>\n",
       "      <td>1</td>\n",
       "      <td>2500.0</td>\n",
       "      <td>2008-01-18</td>\n",
       "      <td>2012-05-01</td>\n",
       "      <td>2012-10-01</td>\n",
       "      <td>60.0</td>\n",
       "      <td>2018-05-24</td>\n",
       "      <td>NaN</td>\n",
       "      <td>NaN</td>\n",
       "      <td>STANDARD</td>\n",
       "      <td>0</td>\n",
       "    </tr>\n",
       "    <tr>\n",
       "      <th>37</th>\n",
       "      <td>c69e2654-acf4-4ddc-b384-065a5c9ebc28</td>\n",
       "      <td>8</td>\n",
       "      <td>7745.0</td>\n",
       "      <td>2011-02-14</td>\n",
       "      <td>2013-03-01</td>\n",
       "      <td>2014-11-01</td>\n",
       "      <td>60.0</td>\n",
       "      <td>2019-02-27</td>\n",
       "      <td>4800.0</td>\n",
       "      <td>12.0</td>\n",
       "      <td>STANDARD</td>\n",
       "      <td>1</td>\n",
       "    </tr>\n",
       "    <tr>\n",
       "      <th>...</th>\n",
       "      <td>...</td>\n",
       "      <td>...</td>\n",
       "      <td>...</td>\n",
       "      <td>...</td>\n",
       "      <td>...</td>\n",
       "      <td>...</td>\n",
       "      <td>...</td>\n",
       "      <td>...</td>\n",
       "      <td>...</td>\n",
       "      <td>...</td>\n",
       "      <td>...</td>\n",
       "      <td>...</td>\n",
       "    </tr>\n",
       "    <tr>\n",
       "      <th>58672</th>\n",
       "      <td>a8d5971e-854b-4b85-ab52-c198bd22297a</td>\n",
       "      <td>1</td>\n",
       "      <td>360.0</td>\n",
       "      <td>2015-10-04</td>\n",
       "      <td>2015-11-01</td>\n",
       "      <td>2017-09-01</td>\n",
       "      <td>24.0</td>\n",
       "      <td>2017-09-04</td>\n",
       "      <td>NaN</td>\n",
       "      <td>NaN</td>\n",
       "      <td>STANDARD</td>\n",
       "      <td>0</td>\n",
       "    </tr>\n",
       "    <tr>\n",
       "      <th>58678</th>\n",
       "      <td>59404104-6df1-4728-8523-0734a7195579</td>\n",
       "      <td>2</td>\n",
       "      <td>600.0</td>\n",
       "      <td>2016-02-01</td>\n",
       "      <td>2016-02-01</td>\n",
       "      <td>2017-12-01</td>\n",
       "      <td>24.0</td>\n",
       "      <td>2019-04-08</td>\n",
       "      <td>350.0</td>\n",
       "      <td>17.0</td>\n",
       "      <td>STANDARD</td>\n",
       "      <td>1</td>\n",
       "    </tr>\n",
       "    <tr>\n",
       "      <th>58680</th>\n",
       "      <td>76d4fe94-91b7-446e-820b-51df2037daf5</td>\n",
       "      <td>9</td>\n",
       "      <td>8000.0</td>\n",
       "      <td>2011-04-28</td>\n",
       "      <td>2013-01-01</td>\n",
       "      <td>2016-06-01</td>\n",
       "      <td>60.0</td>\n",
       "      <td>2018-12-29</td>\n",
       "      <td>NaN</td>\n",
       "      <td>NaN</td>\n",
       "      <td>STANDARD</td>\n",
       "      <td>0</td>\n",
       "    </tr>\n",
       "    <tr>\n",
       "      <th>58681</th>\n",
       "      <td>306e9a9e-8e5b-4f49-9f9b-37b22672b799</td>\n",
       "      <td>5</td>\n",
       "      <td>3556.0</td>\n",
       "      <td>2013-09-06</td>\n",
       "      <td>2013-10-01</td>\n",
       "      <td>2018-09-01</td>\n",
       "      <td>60.0</td>\n",
       "      <td>2018-09-30</td>\n",
       "      <td>2178.0</td>\n",
       "      <td>42.0</td>\n",
       "      <td>STANDARD</td>\n",
       "      <td>1</td>\n",
       "    </tr>\n",
       "    <tr>\n",
       "      <th>58684</th>\n",
       "      <td>b78ae642-2e18-4c47-a1fd-1eddba4a8ebe</td>\n",
       "      <td>10</td>\n",
       "      <td>600.0</td>\n",
       "      <td>2015-11-02</td>\n",
       "      <td>2015-11-01</td>\n",
       "      <td>2017-02-01</td>\n",
       "      <td>24.0</td>\n",
       "      <td>2018-03-31</td>\n",
       "      <td>NaN</td>\n",
       "      <td>NaN</td>\n",
       "      <td>STANDARD</td>\n",
       "      <td>0</td>\n",
       "    </tr>\n",
       "  </tbody>\n",
       "</table>\n",
       "<p>11956 rows × 12 columns</p>\n",
       "</div>"
      ],
      "text/plain": [
       "                                        uid  recordnumber  openbalance  \\\n",
       "5      89761744-b42f-43cd-bd3c-5c363c44671a            12         59.0   \n",
       "8      131da6e2-9d4a-4d06-9c81-08875219f7c6            10        166.0   \n",
       "16     298572be-5aed-44c6-a117-8655aef0615f             8        426.0   \n",
       "22     dcc6a62d-b5eb-4a31-ae41-cfb7de45596a             1       2500.0   \n",
       "37     c69e2654-acf4-4ddc-b384-065a5c9ebc28             8       7745.0   \n",
       "...                                     ...           ...          ...   \n",
       "58672  a8d5971e-854b-4b85-ab52-c198bd22297a             1        360.0   \n",
       "58678  59404104-6df1-4728-8523-0734a7195579             2        600.0   \n",
       "58680  76d4fe94-91b7-446e-820b-51df2037daf5             9       8000.0   \n",
       "58681  306e9a9e-8e5b-4f49-9f9b-37b22672b799             5       3556.0   \n",
       "58684  b78ae642-2e18-4c47-a1fd-1eddba4a8ebe            10        600.0   \n",
       "\n",
       "      accstartdate first_month  last_month  repayperiod  searchdate    dval  \\\n",
       "5       2017-12-01  2018-01-01  2019-09-01         12.0  2019-09-24    47.0   \n",
       "8       2018-03-14  2018-10-01  2019-01-01         24.0  2019-01-13     NaN   \n",
       "16      2015-07-31  2015-08-01  2019-07-01         36.0  2019-07-08     NaN   \n",
       "22      2008-01-18  2012-05-01  2012-10-01         60.0  2018-05-24     NaN   \n",
       "37      2011-02-14  2013-03-01  2014-11-01         60.0  2019-02-27  4800.0   \n",
       "...            ...         ...         ...          ...         ...     ...   \n",
       "58672   2015-10-04  2015-11-01  2017-09-01         24.0  2017-09-04     NaN   \n",
       "58678   2016-02-01  2016-02-01  2017-12-01         24.0  2019-04-08   350.0   \n",
       "58680   2011-04-28  2013-01-01  2016-06-01         60.0  2018-12-29     NaN   \n",
       "58681   2013-09-06  2013-10-01  2018-09-01         60.0  2018-09-30  2178.0   \n",
       "58684   2015-11-02  2015-11-01  2017-02-01         24.0  2018-03-31     NaN   \n",
       "\n",
       "       dmon     class  default  \n",
       "5      13.0   PREMIUM        1  \n",
       "8       NaN  STANDARD        0  \n",
       "16      NaN  STANDARD        0  \n",
       "22      NaN  STANDARD        0  \n",
       "37     12.0  STANDARD        1  \n",
       "...     ...       ...      ...  \n",
       "58672   NaN  STANDARD        0  \n",
       "58678  17.0  STANDARD        1  \n",
       "58680   NaN  STANDARD        0  \n",
       "58681  42.0  STANDARD        1  \n",
       "58684   NaN  STANDARD        0  \n",
       "\n",
       "[11956 rows x 12 columns]"
      ]
     },
     "execution_count": 67,
     "metadata": {},
     "output_type": "execute_result"
    }
   ],
   "source": [
    "data"
   ]
  },
  {
   "cell_type": "code",
   "execution_count": null,
   "id": "fc36c6c6",
   "metadata": {},
   "outputs": [],
   "source": []
  }
 ],
 "metadata": {
  "kernelspec": {
   "display_name": "Python 3 (ipykernel)",
   "language": "python",
   "name": "python3"
  },
  "language_info": {
   "codemirror_mode": {
    "name": "ipython",
    "version": 3
   },
   "file_extension": ".py",
   "mimetype": "text/x-python",
   "name": "python",
   "nbconvert_exporter": "python",
   "pygments_lexer": "ipython3",
   "version": "3.9.7"
  }
 },
 "nbformat": 4,
 "nbformat_minor": 5
}
