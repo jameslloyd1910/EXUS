{
 "cells": [
  {
   "cell_type": "code",
   "execution_count": 25,
   "id": "e028ac85",
   "metadata": {},
   "outputs": [],
   "source": [
    "import pandas as pd"
   ]
  },
  {
   "cell_type": "code",
   "execution_count": 21,
   "id": "8f686236",
   "metadata": {},
   "outputs": [],
   "source": [
    "loans = pd.read_csv ('../data/loan_information.csv')\n",
    "client = pd.read_csv ('../data/client_information_missing.csv')\n",
    "default = pd.read_csv ('../data/default_data.csv')"
   ]
  },
  {
   "cell_type": "code",
   "execution_count": 23,
   "id": "736b36ce",
   "metadata": {},
   "outputs": [
    {
     "data": {
      "text/plain": [
       "58.04395159629731"
      ]
     },
     "execution_count": 23,
     "metadata": {},
     "output_type": "execute_result"
    }
   ],
   "source": [
    "client.f_1.std ()"
   ]
  },
  {
   "cell_type": "code",
   "execution_count": 3,
   "id": "06c15cd3",
   "metadata": {},
   "outputs": [],
   "source": [
    "loans.drop (['openbalance', 'accstartdate', 'first_month',\n",
    "       'last_month', 'searchdate'], axis = 1, inplace = True)"
   ]
  },
  {
   "cell_type": "code",
   "execution_count": 4,
   "id": "6c38a69a",
   "metadata": {},
   "outputs": [],
   "source": [
    "variables = open ('../data/chosen_variables.txt').read ().split ('\\n') [:-1]"
   ]
  },
  {
   "cell_type": "code",
   "execution_count": 5,
   "id": "1b496095",
   "metadata": {},
   "outputs": [],
   "source": [
    "variables = variables + [c for c in client.columns.values if c [-1] == 'o']"
   ]
  },
  {
   "cell_type": "code",
   "execution_count": 6,
   "id": "2770a32d",
   "metadata": {},
   "outputs": [],
   "source": [
    "client = client [variables]"
   ]
  },
  {
   "cell_type": "code",
   "execution_count": 7,
   "id": "cb932b16",
   "metadata": {},
   "outputs": [],
   "source": [
    "default ['joined'] = 1\n",
    "default ['default'] = default.dval.apply (lambda x : 1 if x > 0 else 0)\n",
    "default.drop (['dval', 'dmon'], axis = 1, inplace = True)"
   ]
  },
  {
   "cell_type": "code",
   "execution_count": 8,
   "id": "ff211692",
   "metadata": {},
   "outputs": [],
   "source": [
    "data = (loans\n",
    "        .join (default.set_index (['uid', 'recordnumber']), ['uid', 'recordnumber'])\n",
    "       )"
   ]
  },
  {
   "cell_type": "code",
   "execution_count": 9,
   "id": "4a5c10c6",
   "metadata": {},
   "outputs": [],
   "source": [
    "data = data [data.joined ==1].drop ('joined', axis = 1)"
   ]
  },
  {
   "cell_type": "code",
   "execution_count": 10,
   "id": "4f725417",
   "metadata": {},
   "outputs": [],
   "source": [
    "data = data [(data.repayperiod >= 12) & (data.repayperiod <= 60)]"
   ]
  },
  {
   "cell_type": "code",
   "execution_count": 11,
   "id": "6a062fec",
   "metadata": {},
   "outputs": [],
   "source": [
    "total_loans = (data.groupby ('uid')\n",
    "               .recordnumber\n",
    "               .count ()\n",
    "               .reset_index ()\n",
    "               .rename (columns = {'recordnumber':'number_of_loans'}))"
   ]
  },
  {
   "cell_type": "code",
   "execution_count": 12,
   "id": "60d7db79",
   "metadata": {},
   "outputs": [],
   "source": [
    "data.drop (['recordnumber', 'repayperiod'], axis = 1, inplace = True)"
   ]
  },
  {
   "cell_type": "code",
   "execution_count": 13,
   "id": "c6ca50d1",
   "metadata": {},
   "outputs": [],
   "source": [
    "data = (data\n",
    "        .join (client.set_index ('uid'), on = 'uid')\n",
    "        .join (total_loans.set_index ('uid'), on = 'uid')\n",
    "       )"
   ]
  },
  {
   "cell_type": "code",
   "execution_count": 14,
   "id": "df17b3de",
   "metadata": {},
   "outputs": [],
   "source": [
    "def standardise (x):\n",
    "    return (x - x.mean ()) / (x.std ())"
   ]
  },
  {
   "cell_type": "code",
   "execution_count": 15,
   "id": "897b80e2",
   "metadata": {},
   "outputs": [],
   "source": [
    "for c in variables [1:]:\n",
    "    if ((c [-1] == 'o') | (c [-1] == 'c')):\n",
    "        continue\n",
    "    else:\n",
    "        data [c] = standardise (data [c])"
   ]
  },
  {
   "cell_type": "code",
   "execution_count": 16,
   "id": "eae7c2df",
   "metadata": {},
   "outputs": [],
   "source": [
    "d = pd.get_dummies (data['f_30_c']).loc [:, 1:]\n",
    "#data.f_30_c.drop_duplicates ()"
   ]
  },
  {
   "cell_type": "code",
   "execution_count": 17,
   "id": "01c73aac",
   "metadata": {},
   "outputs": [],
   "source": [
    "cols = d.columns.values"
   ]
  },
  {
   "cell_type": "code",
   "execution_count": 18,
   "id": "c7b28c15",
   "metadata": {},
   "outputs": [],
   "source": [
    "for c in variables [1:]:\n",
    "    if ((c [-1] == 'o') | (c [-1] == 'c')):\n",
    "        dummies = pd.get_dummies (data[c]).iloc [:, 1:]\n",
    "        cols = []\n",
    "        \n",
    "        for i in range (len (dummies.columns.values)):\n",
    "            cols.append (c + '_' + str (dummies.columns.values[i]))\n",
    "            \n",
    "        data.drop (c, axis = 1, inplace = True)\n",
    "        data [cols] = dummies\n",
    "        \n",
    "    else:\n",
    "        continue"
   ]
  },
  {
   "cell_type": "code",
   "execution_count": 20,
   "id": "a011765c",
   "metadata": {},
   "outputs": [],
   "source": [
    "data.to_csv ('../data/data.csv', index = False)"
   ]
  },
  {
   "cell_type": "code",
   "execution_count": null,
   "id": "da025211",
   "metadata": {},
   "outputs": [],
   "source": []
  }
 ],
 "metadata": {
  "kernelspec": {
   "display_name": "Python 3 (ipykernel)",
   "language": "python",
   "name": "python3"
  },
  "language_info": {
   "codemirror_mode": {
    "name": "ipython",
    "version": 3
   },
   "file_extension": ".py",
   "mimetype": "text/x-python",
   "name": "python",
   "nbconvert_exporter": "python",
   "pygments_lexer": "ipython3",
   "version": "3.9.7"
  }
 },
 "nbformat": 4,
 "nbformat_minor": 5
}
