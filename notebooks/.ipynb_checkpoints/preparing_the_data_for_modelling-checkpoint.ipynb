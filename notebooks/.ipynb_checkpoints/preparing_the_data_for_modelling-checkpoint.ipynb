{
 "cells": [
  {
   "cell_type": "code",
   "execution_count": 1,
   "id": "e028ac85",
   "metadata": {},
   "outputs": [],
   "source": [
    "import pandas as pd"
   ]
  },
  {
   "cell_type": "markdown",
   "id": "e24a2782",
   "metadata": {},
   "source": [
    "## Notebook to put all the data together: The important information from the client information, with all loans and defaults"
   ]
  },
  {
   "cell_type": "code",
   "execution_count": 2,
   "id": "8f686236",
   "metadata": {},
   "outputs": [],
   "source": [
    "loans = pd.read_csv ('../data/loan_information.csv')\n",
    "client = pd.read_csv ('../data/client_information_missing.csv')\n",
    "default = pd.read_csv ('../data/default_data.csv')"
   ]
  },
  {
   "cell_type": "code",
   "execution_count": 3,
   "id": "06c15cd3",
   "metadata": {},
   "outputs": [],
   "source": [
    "loans.drop (['openbalance', 'accstartdate', 'first_month',\n",
    "       'last_month', 'searchdate'], axis = 1, inplace = True)"
   ]
  },
  {
   "cell_type": "code",
   "execution_count": 4,
   "id": "6c38a69a",
   "metadata": {},
   "outputs": [],
   "source": [
    "variables = open ('../data/chosen_variables.txt').read ().split ('\\n') [:-1]"
   ]
  },
  {
   "cell_type": "code",
   "execution_count": 5,
   "id": "1b496095",
   "metadata": {},
   "outputs": [],
   "source": [
    "variables = variables + [c for c in client.columns.values if c [-1] == 'o']"
   ]
  },
  {
   "cell_type": "code",
   "execution_count": 6,
   "id": "2770a32d",
   "metadata": {},
   "outputs": [],
   "source": [
    "client = client [variables]"
   ]
  },
  {
   "cell_type": "code",
   "execution_count": 7,
   "id": "cb932b16",
   "metadata": {},
   "outputs": [],
   "source": [
    "# Not all loan entries have a default entry, I exclude these. \n",
    "\n",
    "default ['joined'] = 1\n",
    "default ['default'] = default.dval.apply (lambda x : 1 if x > 0 else 0)\n",
    "default.drop (['dval', 'dmon'], axis = 1, inplace = True)"
   ]
  },
  {
   "cell_type": "code",
   "execution_count": 8,
   "id": "ff211692",
   "metadata": {},
   "outputs": [],
   "source": [
    "data = (loans\n",
    "        .join (default.set_index (['uid', 'recordnumber']), ['uid', 'recordnumber'])\n",
    "       )"
   ]
  },
  {
   "cell_type": "code",
   "execution_count": 9,
   "id": "4a5c10c6",
   "metadata": {},
   "outputs": [],
   "source": [
    "data = data [data.joined ==1].drop ('joined', axis = 1)"
   ]
  },
  {
   "cell_type": "code",
   "execution_count": 10,
   "id": "4f725417",
   "metadata": {},
   "outputs": [],
   "source": [
    "# Restricting loans to the considered period (dropping those with null repayment)\n",
    "\n",
    "data = data [(data.repayperiod >= 12) & (data.repayperiod <= 60)]"
   ]
  },
  {
   "cell_type": "code",
   "execution_count": 11,
   "id": "6a062fec",
   "metadata": {},
   "outputs": [],
   "source": [
    "# Total loans held by the uid, as a feature\n",
    "\n",
    "total_loans = (data.groupby ('uid')\n",
    "               .recordnumber\n",
    "               .count ()\n",
    "               .reset_index ()\n",
    "               .rename (columns = {'recordnumber':'number_of_loans'}))"
   ]
  },
  {
   "cell_type": "code",
   "execution_count": 12,
   "id": "60d7db79",
   "metadata": {},
   "outputs": [],
   "source": [
    "data.drop (['recordnumber', 'repayperiod'], axis = 1, inplace = True)"
   ]
  },
  {
   "cell_type": "code",
   "execution_count": 13,
   "id": "c6ca50d1",
   "metadata": {},
   "outputs": [],
   "source": [
    "data = (data\n",
    "        .join (client.set_index ('uid'), on = 'uid')\n",
    "        .join (total_loans.set_index ('uid'), on = 'uid')\n",
    "       )"
   ]
  },
  {
   "cell_type": "code",
   "execution_count": 14,
   "id": "df17b3de",
   "metadata": {},
   "outputs": [],
   "source": [
    "def standardise (x):\n",
    "    \"\"\"\n",
    "    Function to standardise continuous variables\n",
    "    \"\"\"\n",
    "    return (x - x.mean ()) / (x.std ())"
   ]
  },
  {
   "cell_type": "code",
   "execution_count": 15,
   "id": "897b80e2",
   "metadata": {},
   "outputs": [],
   "source": [
    "# Standardising the continuous variables\n",
    "\n",
    "for c in variables [1:]:\n",
    "    if ((c [-1] == 'o') | (c [-1] == 'c')):\n",
    "        continue\n",
    "    else:\n",
    "        data [c] = standardise (data [c])"
   ]
  },
  {
   "cell_type": "code",
   "execution_count": 16,
   "id": "c7b28c15",
   "metadata": {},
   "outputs": [],
   "source": [
    "# One hot encoding with appropriate column headings\n",
    "\n",
    "for c in variables [1:]:\n",
    "    if ((c [-1] == 'o') | (c [-1] == 'c')):\n",
    "        dummies = pd.get_dummies (data[c]).iloc [:, 1:]\n",
    "        cols = []\n",
    "        \n",
    "        for i in range (len (dummies.columns.values)):\n",
    "            cols.append (c + '_' + str (dummies.columns.values[i]))\n",
    "            \n",
    "        data.drop (c, axis = 1, inplace = True)\n",
    "        data [cols] = dummies\n",
    "        \n",
    "    else:\n",
    "        continue"
   ]
  },
  {
   "cell_type": "code",
   "execution_count": 17,
   "id": "965e71b1",
   "metadata": {},
   "outputs": [],
   "source": [
    "#default_data = data [data.default == 1]\n",
    "#clean_data = data [data.default == 0]"
   ]
  },
  {
   "cell_type": "code",
   "execution_count": 18,
   "id": "560338f0",
   "metadata": {},
   "outputs": [],
   "source": [
    "#data = pd.concat ([default_data, clean_data, clean_data, clean_data.sample (1330, random_state=0)])"
   ]
  },
  {
   "cell_type": "code",
   "execution_count": 19,
   "id": "a011765c",
   "metadata": {},
   "outputs": [],
   "source": [
    "data.to_csv ('../data/data.csv', index = False)"
   ]
  }
 ],
 "metadata": {
  "kernelspec": {
   "display_name": "Python 3 (ipykernel)",
   "language": "python",
   "name": "python3"
  },
  "language_info": {
   "codemirror_mode": {
    "name": "ipython",
    "version": 3
   },
   "file_extension": ".py",
   "mimetype": "text/x-python",
   "name": "python",
   "nbconvert_exporter": "python",
   "pygments_lexer": "ipython3",
   "version": "3.9.7"
  }
 },
 "nbformat": 4,
 "nbformat_minor": 5
}
