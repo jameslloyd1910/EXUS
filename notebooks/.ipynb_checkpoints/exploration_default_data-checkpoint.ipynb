{
 "cells": [
  {
   "cell_type": "code",
   "execution_count": 1,
   "id": "92d03470",
   "metadata": {},
   "outputs": [],
   "source": [
    "import pandas as pd\n",
    "import matplotlib.pyplot as plt"
   ]
  },
  {
   "cell_type": "markdown",
   "id": "e24c3a1f",
   "metadata": {},
   "source": [
    "### Default_Data.csv: data describing defaulters and no defaulters (i.e., good/bad customers)."
   ]
  },
  {
   "cell_type": "markdown",
   "id": "e4c15a1c",
   "metadata": {},
   "source": [
    " - UID - customer ID\n",
    " - Recordnumber - customer’s loan id\n",
    " - Dval - default value\n",
    " - Dmon - month on books when default was registered"
   ]
  },
  {
   "cell_type": "code",
   "execution_count": 2,
   "id": "2c7e8953",
   "metadata": {},
   "outputs": [],
   "source": [
    "data = pd.read_csv ('../../assignment_datasets/Default_Data.csv')"
   ]
  },
  {
   "cell_type": "code",
   "execution_count": 3,
   "id": "4bff114e",
   "metadata": {},
   "outputs": [
    {
     "data": {
      "text/plain": [
       "Index(['UID', 'RECORDNUMBER', 'DVAL', 'DMON'], dtype='object')"
      ]
     },
     "execution_count": 3,
     "metadata": {},
     "output_type": "execute_result"
    }
   ],
   "source": [
    "data.columns"
   ]
  },
  {
   "cell_type": "code",
   "execution_count": 4,
   "id": "4e020044",
   "metadata": {},
   "outputs": [
    {
     "data": {
      "text/html": [
       "<div>\n",
       "<style scoped>\n",
       "    .dataframe tbody tr th:only-of-type {\n",
       "        vertical-align: middle;\n",
       "    }\n",
       "\n",
       "    .dataframe tbody tr th {\n",
       "        vertical-align: top;\n",
       "    }\n",
       "\n",
       "    .dataframe thead th {\n",
       "        text-align: right;\n",
       "    }\n",
       "</style>\n",
       "<table border=\"1\" class=\"dataframe\">\n",
       "  <thead>\n",
       "    <tr style=\"text-align: right;\">\n",
       "      <th></th>\n",
       "      <th>UID</th>\n",
       "      <th>RECORDNUMBER</th>\n",
       "      <th>DVAL</th>\n",
       "      <th>DMON</th>\n",
       "    </tr>\n",
       "  </thead>\n",
       "  <tbody>\n",
       "    <tr>\n",
       "      <th>0</th>\n",
       "      <td>2a08b1c1-504b-4178-8c3f-942aa09c7732</td>\n",
       "      <td>8</td>\n",
       "      <td>70.0</td>\n",
       "      <td>6.0</td>\n",
       "    </tr>\n",
       "    <tr>\n",
       "      <th>1</th>\n",
       "      <td>039b68a8-0953-484f-a14a-0e1e78ef7794</td>\n",
       "      <td>7</td>\n",
       "      <td>999.0</td>\n",
       "      <td>5.0</td>\n",
       "    </tr>\n",
       "    <tr>\n",
       "      <th>2</th>\n",
       "      <td>225b6f92-6c66-45c1-bb82-7ed89aad9619</td>\n",
       "      <td>8</td>\n",
       "      <td>7859.0</td>\n",
       "      <td>27.0</td>\n",
       "    </tr>\n",
       "    <tr>\n",
       "      <th>3</th>\n",
       "      <td>d10af710-591d-458e-b81f-85fb99d9c5a8</td>\n",
       "      <td>9</td>\n",
       "      <td>2739.0</td>\n",
       "      <td>9.0</td>\n",
       "    </tr>\n",
       "    <tr>\n",
       "      <th>4</th>\n",
       "      <td>6457c750-e7c0-4309-9ca3-8dd2ddbabbc0</td>\n",
       "      <td>8</td>\n",
       "      <td>NaN</td>\n",
       "      <td>NaN</td>\n",
       "    </tr>\n",
       "  </tbody>\n",
       "</table>\n",
       "</div>"
      ],
      "text/plain": [
       "                                    UID  RECORDNUMBER    DVAL  DMON\n",
       "0  2a08b1c1-504b-4178-8c3f-942aa09c7732             8    70.0   6.0\n",
       "1  039b68a8-0953-484f-a14a-0e1e78ef7794             7   999.0   5.0\n",
       "2  225b6f92-6c66-45c1-bb82-7ed89aad9619             8  7859.0  27.0\n",
       "3  d10af710-591d-458e-b81f-85fb99d9c5a8             9  2739.0   9.0\n",
       "4  6457c750-e7c0-4309-9ca3-8dd2ddbabbc0             8     NaN   NaN"
      ]
     },
     "execution_count": 4,
     "metadata": {},
     "output_type": "execute_result"
    }
   ],
   "source": [
    "data.head ()"
   ]
  },
  {
   "cell_type": "code",
   "execution_count": 7,
   "id": "6ce3d373",
   "metadata": {},
   "outputs": [
    {
     "data": {
      "text/plain": [
       "cd7b2744-9dab-43c5-b4a1-559eb8f0a0e7    8\n",
       "307b32da-0f1f-4bbe-a6df-8c0ebeaeb582    8\n",
       "cff91982-1a28-4fdd-86b7-291ef92d18d6    7\n",
       "3daaf15a-ca86-48c1-a4cc-36d0901e9633    7\n",
       "9238a835-df43-449e-801e-0ba4b6ec6cb6    7\n",
       "                                       ..\n",
       "9a7299a9-63bc-4509-8b10-babc16eb8e5a    2\n",
       "3a5d7413-f5f8-4dac-be92-5fc5c8aea6f6    2\n",
       "541b0328-26c9-4dc1-8cd4-fd326fb69955    2\n",
       "ee5ef3a9-b7ff-4843-918d-44e32e0f7bee    2\n",
       "9207065a-2d6f-4264-b52a-14fb43418d9d    2\n",
       "Name: UID, Length: 2663, dtype: int64"
      ]
     },
     "execution_count": 7,
     "metadata": {},
     "output_type": "execute_result"
    }
   ],
   "source": [
    "# Hmmmm, this will need some understanding\n",
    "\n",
    "duplicated_id = data ['UID'].value_counts ()\n",
    "duplicated_id [duplicated_id > 1]"
   ]
  },
  {
   "cell_type": "code",
   "execution_count": null,
   "id": "88ff6b7e",
   "metadata": {},
   "outputs": [],
   "source": []
  }
 ],
 "metadata": {
  "kernelspec": {
   "display_name": "Python 3 (ipykernel)",
   "language": "python",
   "name": "python3"
  },
  "language_info": {
   "codemirror_mode": {
    "name": "ipython",
    "version": 3
   },
   "file_extension": ".py",
   "mimetype": "text/x-python",
   "name": "python",
   "nbconvert_exporter": "python",
   "pygments_lexer": "ipython3",
   "version": "3.9.7"
  }
 },
 "nbformat": 4,
 "nbformat_minor": 5
}
